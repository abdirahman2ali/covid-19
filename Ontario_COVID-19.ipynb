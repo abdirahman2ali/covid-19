{
 "cells": [
  {
   "cell_type": "code",
   "execution_count": 1,
   "metadata": {},
   "outputs": [],
   "source": [
    "import pandas as pd\n",
    "import numpy as np\n",
    "import urllib.request # to request URLs and get the HTML from it\n",
    "import requests\n",
    "import string\n",
    "import matplotlib.pyplot as plt\n",
    "import schedule\n",
    "import time\n",
    "import plotly.express as px"
   ]
  },
  {
   "cell_type": "code",
   "execution_count": 2,
   "metadata": {},
   "outputs": [
    {
     "data": {
      "text/html": [
       "<div>\n",
       "<style scoped>\n",
       "    .dataframe tbody tr th:only-of-type {\n",
       "        vertical-align: middle;\n",
       "    }\n",
       "\n",
       "    .dataframe tbody tr th {\n",
       "        vertical-align: top;\n",
       "    }\n",
       "\n",
       "    .dataframe thead th {\n",
       "        text-align: right;\n",
       "    }\n",
       "</style>\n",
       "<table border=\"1\" class=\"dataframe\">\n",
       "  <thead>\n",
       "    <tr style=\"text-align: right;\">\n",
       "      <th></th>\n",
       "      <th>Reported Date</th>\n",
       "      <th>Confirmed Negative</th>\n",
       "      <th>Presumptive Negative</th>\n",
       "      <th>Presumptive Positive</th>\n",
       "      <th>Confirmed Positive</th>\n",
       "      <th>Resolved</th>\n",
       "      <th>Deaths</th>\n",
       "      <th>Total Cases</th>\n",
       "      <th>Total patients approved for testing as of Reporting Date</th>\n",
       "      <th>Total tests completed in the last day</th>\n",
       "      <th>Percent positive tests in last day</th>\n",
       "      <th>Under Investigation</th>\n",
       "      <th>Number of patients hospitalized with COVID-19</th>\n",
       "      <th>Number of patients in ICU with COVID-19</th>\n",
       "      <th>Number of patients in ICU on a ventilator with COVID-19</th>\n",
       "      <th>Total Positive LTC Resident Cases</th>\n",
       "      <th>Total Positive LTC HCW Cases</th>\n",
       "      <th>Total LTC Resident Deaths</th>\n",
       "      <th>Total LTC HCW Deaths</th>\n",
       "    </tr>\n",
       "  </thead>\n",
       "  <tbody>\n",
       "    <tr>\n",
       "      <th>0</th>\n",
       "      <td>2020-01-26</td>\n",
       "      <td>NaN</td>\n",
       "      <td>NaN</td>\n",
       "      <td>1.0</td>\n",
       "      <td>NaN</td>\n",
       "      <td>NaN</td>\n",
       "      <td>NaN</td>\n",
       "      <td>NaN</td>\n",
       "      <td>NaN</td>\n",
       "      <td>NaN</td>\n",
       "      <td>NaN</td>\n",
       "      <td>9</td>\n",
       "      <td>NaN</td>\n",
       "      <td>NaN</td>\n",
       "      <td>NaN</td>\n",
       "      <td>NaN</td>\n",
       "      <td>NaN</td>\n",
       "      <td>NaN</td>\n",
       "      <td>NaN</td>\n",
       "    </tr>\n",
       "    <tr>\n",
       "      <th>1</th>\n",
       "      <td>2020-01-27</td>\n",
       "      <td>NaN</td>\n",
       "      <td>NaN</td>\n",
       "      <td>2.0</td>\n",
       "      <td>NaN</td>\n",
       "      <td>NaN</td>\n",
       "      <td>NaN</td>\n",
       "      <td>NaN</td>\n",
       "      <td>NaN</td>\n",
       "      <td>NaN</td>\n",
       "      <td>NaN</td>\n",
       "      <td>19</td>\n",
       "      <td>NaN</td>\n",
       "      <td>NaN</td>\n",
       "      <td>NaN</td>\n",
       "      <td>NaN</td>\n",
       "      <td>NaN</td>\n",
       "      <td>NaN</td>\n",
       "      <td>NaN</td>\n",
       "    </tr>\n",
       "    <tr>\n",
       "      <th>2</th>\n",
       "      <td>2020-01-28</td>\n",
       "      <td>NaN</td>\n",
       "      <td>NaN</td>\n",
       "      <td>1.0</td>\n",
       "      <td>1.0</td>\n",
       "      <td>NaN</td>\n",
       "      <td>NaN</td>\n",
       "      <td>1.0</td>\n",
       "      <td>NaN</td>\n",
       "      <td>NaN</td>\n",
       "      <td>NaN</td>\n",
       "      <td>11</td>\n",
       "      <td>NaN</td>\n",
       "      <td>NaN</td>\n",
       "      <td>NaN</td>\n",
       "      <td>NaN</td>\n",
       "      <td>NaN</td>\n",
       "      <td>NaN</td>\n",
       "      <td>NaN</td>\n",
       "    </tr>\n",
       "    <tr>\n",
       "      <th>3</th>\n",
       "      <td>2020-01-30</td>\n",
       "      <td>NaN</td>\n",
       "      <td>NaN</td>\n",
       "      <td>0.0</td>\n",
       "      <td>2.0</td>\n",
       "      <td>NaN</td>\n",
       "      <td>NaN</td>\n",
       "      <td>2.0</td>\n",
       "      <td>NaN</td>\n",
       "      <td>NaN</td>\n",
       "      <td>NaN</td>\n",
       "      <td>27</td>\n",
       "      <td>NaN</td>\n",
       "      <td>NaN</td>\n",
       "      <td>NaN</td>\n",
       "      <td>NaN</td>\n",
       "      <td>NaN</td>\n",
       "      <td>NaN</td>\n",
       "      <td>NaN</td>\n",
       "    </tr>\n",
       "    <tr>\n",
       "      <th>4</th>\n",
       "      <td>2020-01-31</td>\n",
       "      <td>NaN</td>\n",
       "      <td>NaN</td>\n",
       "      <td>0.0</td>\n",
       "      <td>2.0</td>\n",
       "      <td>NaN</td>\n",
       "      <td>NaN</td>\n",
       "      <td>2.0</td>\n",
       "      <td>NaN</td>\n",
       "      <td>NaN</td>\n",
       "      <td>NaN</td>\n",
       "      <td>17</td>\n",
       "      <td>NaN</td>\n",
       "      <td>NaN</td>\n",
       "      <td>NaN</td>\n",
       "      <td>NaN</td>\n",
       "      <td>NaN</td>\n",
       "      <td>NaN</td>\n",
       "      <td>NaN</td>\n",
       "    </tr>\n",
       "  </tbody>\n",
       "</table>\n",
       "</div>"
      ],
      "text/plain": [
       "  Reported Date  Confirmed Negative  Presumptive Negative  \\\n",
       "0    2020-01-26                 NaN                   NaN   \n",
       "1    2020-01-27                 NaN                   NaN   \n",
       "2    2020-01-28                 NaN                   NaN   \n",
       "3    2020-01-30                 NaN                   NaN   \n",
       "4    2020-01-31                 NaN                   NaN   \n",
       "\n",
       "   Presumptive Positive  Confirmed Positive  Resolved  Deaths  Total Cases  \\\n",
       "0                   1.0                 NaN       NaN     NaN          NaN   \n",
       "1                   2.0                 NaN       NaN     NaN          NaN   \n",
       "2                   1.0                 1.0       NaN     NaN          1.0   \n",
       "3                   0.0                 2.0       NaN     NaN          2.0   \n",
       "4                   0.0                 2.0       NaN     NaN          2.0   \n",
       "\n",
       "   Total patients approved for testing as of Reporting Date  \\\n",
       "0                                                NaN          \n",
       "1                                                NaN          \n",
       "2                                                NaN          \n",
       "3                                                NaN          \n",
       "4                                                NaN          \n",
       "\n",
       "   Total tests completed in the last day  Percent positive tests in last day  \\\n",
       "0                                    NaN                                 NaN   \n",
       "1                                    NaN                                 NaN   \n",
       "2                                    NaN                                 NaN   \n",
       "3                                    NaN                                 NaN   \n",
       "4                                    NaN                                 NaN   \n",
       "\n",
       "   Under Investigation  Number of patients hospitalized with COVID-19  \\\n",
       "0                    9                                            NaN   \n",
       "1                   19                                            NaN   \n",
       "2                   11                                            NaN   \n",
       "3                   27                                            NaN   \n",
       "4                   17                                            NaN   \n",
       "\n",
       "   Number of patients in ICU with COVID-19  \\\n",
       "0                                      NaN   \n",
       "1                                      NaN   \n",
       "2                                      NaN   \n",
       "3                                      NaN   \n",
       "4                                      NaN   \n",
       "\n",
       "   Number of patients in ICU on a ventilator with COVID-19  \\\n",
       "0                                                NaN         \n",
       "1                                                NaN         \n",
       "2                                                NaN         \n",
       "3                                                NaN         \n",
       "4                                                NaN         \n",
       "\n",
       "   Total Positive LTC Resident Cases  Total Positive LTC HCW Cases  \\\n",
       "0                                NaN                           NaN   \n",
       "1                                NaN                           NaN   \n",
       "2                                NaN                           NaN   \n",
       "3                                NaN                           NaN   \n",
       "4                                NaN                           NaN   \n",
       "\n",
       "   Total LTC Resident Deaths  Total LTC HCW Deaths  \n",
       "0                        NaN                   NaN  \n",
       "1                        NaN                   NaN  \n",
       "2                        NaN                   NaN  \n",
       "3                        NaN                   NaN  \n",
       "4                        NaN                   NaN  "
      ]
     },
     "execution_count": 2,
     "metadata": {},
     "output_type": "execute_result"
    }
   ],
   "source": [
    "data = pd.read_csv('https://data.ontario.ca/dataset/f4f86e54-872d-43f8-8a86-3892fd3cb5e6/resource/ed270bb8-340b-41f9-a7c6-e8ef587e6d11/download/covidtestin')\n",
    "\n",
    "data.head()"
   ]
  },
  {
   "cell_type": "code",
   "execution_count": 3,
   "metadata": {},
   "outputs": [
    {
     "data": {
      "text/plain": [
       "Index(['Reported Date', 'Confirmed Negative', 'Presumptive Negative',\n",
       "       'Presumptive Positive', 'Confirmed Positive', 'Resolved', 'Deaths',\n",
       "       'Total Cases',\n",
       "       'Total patients approved for testing as of Reporting Date',\n",
       "       'Total tests completed in the last day',\n",
       "       'Percent positive tests in last day', 'Under Investigation',\n",
       "       'Number of patients hospitalized with COVID-19',\n",
       "       'Number of patients in ICU with COVID-19',\n",
       "       'Number of patients in ICU on a ventilator with COVID-19',\n",
       "       'Total Positive LTC Resident Cases', 'Total Positive LTC HCW Cases',\n",
       "       'Total LTC Resident Deaths', 'Total LTC HCW Deaths'],\n",
       "      dtype='object')"
      ]
     },
     "execution_count": 3,
     "metadata": {},
     "output_type": "execute_result"
    }
   ],
   "source": [
    "# Check columns\n",
    "data.columns"
   ]
  },
  {
   "cell_type": "code",
   "execution_count": 4,
   "metadata": {},
   "outputs": [
    {
     "data": {
      "text/plain": [
       "Reported Date                                                object\n",
       "Confirmed Negative                                          float64\n",
       "Presumptive Negative                                        float64\n",
       "Presumptive Positive                                        float64\n",
       "Confirmed Positive                                          float64\n",
       "Resolved                                                    float64\n",
       "Deaths                                                      float64\n",
       "Total Cases                                                 float64\n",
       "Total patients approved for testing as of Reporting Date    float64\n",
       "Total tests completed in the last day                       float64\n",
       "Percent positive tests in last day                          float64\n",
       "Under Investigation                                           int64\n",
       "Number of patients hospitalized with COVID-19               float64\n",
       "Number of patients in ICU with COVID-19                     float64\n",
       "Number of patients in ICU on a ventilator with COVID-19     float64\n",
       "Total Positive LTC Resident Cases                           float64\n",
       "Total Positive LTC HCW Cases                                float64\n",
       "Total LTC Resident Deaths                                   float64\n",
       "Total LTC HCW Deaths                                        float64\n",
       "dtype: object"
      ]
     },
     "execution_count": 4,
     "metadata": {},
     "output_type": "execute_result"
    }
   ],
   "source": [
    "# Check data types\n",
    "data.dtypes"
   ]
  },
  {
   "cell_type": "code",
   "execution_count": 5,
   "metadata": {},
   "outputs": [],
   "source": [
    "# convert the 'Date' column to datetime format \n",
    "data['Reported Date']= pd.to_datetime(data['Reported Date']) "
   ]
  },
  {
   "cell_type": "code",
   "execution_count": 6,
   "metadata": {},
   "outputs": [
    {
     "data": {
      "text/plain": [
       "Reported Date                                                 0\n",
       "Confirmed Negative                                          264\n",
       "Presumptive Negative                                        299\n",
       "Presumptive Positive                                        286\n",
       "Confirmed Positive                                            2\n",
       "Resolved                                                     12\n",
       "Deaths                                                       40\n",
       "Total Cases                                                   2\n",
       "Total patients approved for testing as of Reporting Date      6\n",
       "Total tests completed in the last day                        69\n",
       "Percent positive tests in last day                           73\n",
       "Under Investigation                                           0\n",
       "Number of patients hospitalized with COVID-19                56\n",
       "Number of patients in ICU with COVID-19                      56\n",
       "Number of patients in ICU on a ventilator with COVID-19      56\n",
       "Total Positive LTC Resident Cases                           105\n",
       "Total Positive LTC HCW Cases                                110\n",
       "Total LTC Resident Deaths                                   103\n",
       "Total LTC HCW Deaths                                        103\n",
       "dtype: int64"
      ]
     },
     "execution_count": 6,
     "metadata": {},
     "output_type": "execute_result"
    }
   ],
   "source": [
    "# Check numm values\n",
    "data.isnull().sum()"
   ]
  },
  {
   "cell_type": "code",
   "execution_count": 7,
   "metadata": {},
   "outputs": [
    {
     "data": {
      "text/html": [
       "<div>\n",
       "<style scoped>\n",
       "    .dataframe tbody tr th:only-of-type {\n",
       "        vertical-align: middle;\n",
       "    }\n",
       "\n",
       "    .dataframe tbody tr th {\n",
       "        vertical-align: top;\n",
       "    }\n",
       "\n",
       "    .dataframe thead th {\n",
       "        text-align: right;\n",
       "    }\n",
       "</style>\n",
       "<table border=\"1\" class=\"dataframe\">\n",
       "  <thead>\n",
       "    <tr style=\"text-align: right;\">\n",
       "      <th></th>\n",
       "      <th>Reported Date</th>\n",
       "      <th>Confirmed Negative</th>\n",
       "      <th>Presumptive Negative</th>\n",
       "      <th>Presumptive Positive</th>\n",
       "      <th>Confirmed Positive</th>\n",
       "      <th>Resolved</th>\n",
       "      <th>Deaths</th>\n",
       "      <th>Total Cases</th>\n",
       "      <th>Total patients approved for testing as of Reporting Date</th>\n",
       "      <th>Total tests completed in the last day</th>\n",
       "      <th>Percent positive tests in last day</th>\n",
       "      <th>Under Investigation</th>\n",
       "      <th>Number of patients hospitalized with COVID-19</th>\n",
       "      <th>Number of patients in ICU with COVID-19</th>\n",
       "      <th>Number of patients in ICU on a ventilator with COVID-19</th>\n",
       "      <th>Total Positive LTC Resident Cases</th>\n",
       "      <th>Total Positive LTC HCW Cases</th>\n",
       "      <th>Total LTC Resident Deaths</th>\n",
       "      <th>Total LTC HCW Deaths</th>\n",
       "    </tr>\n",
       "  </thead>\n",
       "  <tbody>\n",
       "    <tr>\n",
       "      <th>0</th>\n",
       "      <td>2020-01-26</td>\n",
       "      <td>0.0</td>\n",
       "      <td>0.0</td>\n",
       "      <td>1.0</td>\n",
       "      <td>0.0</td>\n",
       "      <td>0.0</td>\n",
       "      <td>0.0</td>\n",
       "      <td>0.0</td>\n",
       "      <td>0.0</td>\n",
       "      <td>0.0</td>\n",
       "      <td>0.0</td>\n",
       "      <td>9</td>\n",
       "      <td>0.0</td>\n",
       "      <td>0.0</td>\n",
       "      <td>0.0</td>\n",
       "      <td>0.0</td>\n",
       "      <td>0.0</td>\n",
       "      <td>0.0</td>\n",
       "      <td>0.0</td>\n",
       "    </tr>\n",
       "    <tr>\n",
       "      <th>1</th>\n",
       "      <td>2020-01-27</td>\n",
       "      <td>0.0</td>\n",
       "      <td>0.0</td>\n",
       "      <td>2.0</td>\n",
       "      <td>0.0</td>\n",
       "      <td>0.0</td>\n",
       "      <td>0.0</td>\n",
       "      <td>0.0</td>\n",
       "      <td>0.0</td>\n",
       "      <td>0.0</td>\n",
       "      <td>0.0</td>\n",
       "      <td>19</td>\n",
       "      <td>0.0</td>\n",
       "      <td>0.0</td>\n",
       "      <td>0.0</td>\n",
       "      <td>0.0</td>\n",
       "      <td>0.0</td>\n",
       "      <td>0.0</td>\n",
       "      <td>0.0</td>\n",
       "    </tr>\n",
       "    <tr>\n",
       "      <th>2</th>\n",
       "      <td>2020-01-28</td>\n",
       "      <td>0.0</td>\n",
       "      <td>0.0</td>\n",
       "      <td>1.0</td>\n",
       "      <td>1.0</td>\n",
       "      <td>0.0</td>\n",
       "      <td>0.0</td>\n",
       "      <td>1.0</td>\n",
       "      <td>0.0</td>\n",
       "      <td>0.0</td>\n",
       "      <td>0.0</td>\n",
       "      <td>11</td>\n",
       "      <td>0.0</td>\n",
       "      <td>0.0</td>\n",
       "      <td>0.0</td>\n",
       "      <td>0.0</td>\n",
       "      <td>0.0</td>\n",
       "      <td>0.0</td>\n",
       "      <td>0.0</td>\n",
       "    </tr>\n",
       "    <tr>\n",
       "      <th>3</th>\n",
       "      <td>2020-01-30</td>\n",
       "      <td>0.0</td>\n",
       "      <td>0.0</td>\n",
       "      <td>0.0</td>\n",
       "      <td>2.0</td>\n",
       "      <td>0.0</td>\n",
       "      <td>0.0</td>\n",
       "      <td>2.0</td>\n",
       "      <td>0.0</td>\n",
       "      <td>0.0</td>\n",
       "      <td>0.0</td>\n",
       "      <td>27</td>\n",
       "      <td>0.0</td>\n",
       "      <td>0.0</td>\n",
       "      <td>0.0</td>\n",
       "      <td>0.0</td>\n",
       "      <td>0.0</td>\n",
       "      <td>0.0</td>\n",
       "      <td>0.0</td>\n",
       "    </tr>\n",
       "    <tr>\n",
       "      <th>4</th>\n",
       "      <td>2020-01-31</td>\n",
       "      <td>0.0</td>\n",
       "      <td>0.0</td>\n",
       "      <td>0.0</td>\n",
       "      <td>2.0</td>\n",
       "      <td>0.0</td>\n",
       "      <td>0.0</td>\n",
       "      <td>2.0</td>\n",
       "      <td>0.0</td>\n",
       "      <td>0.0</td>\n",
       "      <td>0.0</td>\n",
       "      <td>17</td>\n",
       "      <td>0.0</td>\n",
       "      <td>0.0</td>\n",
       "      <td>0.0</td>\n",
       "      <td>0.0</td>\n",
       "      <td>0.0</td>\n",
       "      <td>0.0</td>\n",
       "      <td>0.0</td>\n",
       "    </tr>\n",
       "  </tbody>\n",
       "</table>\n",
       "</div>"
      ],
      "text/plain": [
       "  Reported Date  Confirmed Negative  Presumptive Negative  \\\n",
       "0    2020-01-26                 0.0                   0.0   \n",
       "1    2020-01-27                 0.0                   0.0   \n",
       "2    2020-01-28                 0.0                   0.0   \n",
       "3    2020-01-30                 0.0                   0.0   \n",
       "4    2020-01-31                 0.0                   0.0   \n",
       "\n",
       "   Presumptive Positive  Confirmed Positive  Resolved  Deaths  Total Cases  \\\n",
       "0                   1.0                 0.0       0.0     0.0          0.0   \n",
       "1                   2.0                 0.0       0.0     0.0          0.0   \n",
       "2                   1.0                 1.0       0.0     0.0          1.0   \n",
       "3                   0.0                 2.0       0.0     0.0          2.0   \n",
       "4                   0.0                 2.0       0.0     0.0          2.0   \n",
       "\n",
       "   Total patients approved for testing as of Reporting Date  \\\n",
       "0                                                0.0          \n",
       "1                                                0.0          \n",
       "2                                                0.0          \n",
       "3                                                0.0          \n",
       "4                                                0.0          \n",
       "\n",
       "   Total tests completed in the last day  Percent positive tests in last day  \\\n",
       "0                                    0.0                                 0.0   \n",
       "1                                    0.0                                 0.0   \n",
       "2                                    0.0                                 0.0   \n",
       "3                                    0.0                                 0.0   \n",
       "4                                    0.0                                 0.0   \n",
       "\n",
       "   Under Investigation  Number of patients hospitalized with COVID-19  \\\n",
       "0                    9                                            0.0   \n",
       "1                   19                                            0.0   \n",
       "2                   11                                            0.0   \n",
       "3                   27                                            0.0   \n",
       "4                   17                                            0.0   \n",
       "\n",
       "   Number of patients in ICU with COVID-19  \\\n",
       "0                                      0.0   \n",
       "1                                      0.0   \n",
       "2                                      0.0   \n",
       "3                                      0.0   \n",
       "4                                      0.0   \n",
       "\n",
       "   Number of patients in ICU on a ventilator with COVID-19  \\\n",
       "0                                                0.0         \n",
       "1                                                0.0         \n",
       "2                                                0.0         \n",
       "3                                                0.0         \n",
       "4                                                0.0         \n",
       "\n",
       "   Total Positive LTC Resident Cases  Total Positive LTC HCW Cases  \\\n",
       "0                                0.0                           0.0   \n",
       "1                                0.0                           0.0   \n",
       "2                                0.0                           0.0   \n",
       "3                                0.0                           0.0   \n",
       "4                                0.0                           0.0   \n",
       "\n",
       "   Total LTC Resident Deaths  Total LTC HCW Deaths  \n",
       "0                        0.0                   0.0  \n",
       "1                        0.0                   0.0  \n",
       "2                        0.0                   0.0  \n",
       "3                        0.0                   0.0  \n",
       "4                        0.0                   0.0  "
      ]
     },
     "execution_count": 7,
     "metadata": {},
     "output_type": "execute_result"
    }
   ],
   "source": [
    "data = data.fillna(0)\n",
    "data.head()"
   ]
  },
  {
   "cell_type": "code",
   "execution_count": 8,
   "metadata": {},
   "outputs": [],
   "source": [
    "data = data.rename(columns={'Confirmed Positive': 'Positive Cases', 'Number of patients hospitalized with COVID-19':'Hospitalization', 'Number of patients in ICU with COVID-19':'Enter ICU', 'Number of patients in ICU on a ventilator with COVID-19':'ICU on ventilator', 'Total tests completed in the last day':'Total tests completed'})"
   ]
  },
  {
   "cell_type": "code",
   "execution_count": 9,
   "metadata": {},
   "outputs": [
    {
     "data": {
      "text/html": [
       "<div>\n",
       "<style scoped>\n",
       "    .dataframe tbody tr th:only-of-type {\n",
       "        vertical-align: middle;\n",
       "    }\n",
       "\n",
       "    .dataframe tbody tr th {\n",
       "        vertical-align: top;\n",
       "    }\n",
       "\n",
       "    .dataframe thead th {\n",
       "        text-align: right;\n",
       "    }\n",
       "</style>\n",
       "<table border=\"1\" class=\"dataframe\">\n",
       "  <thead>\n",
       "    <tr style=\"text-align: right;\">\n",
       "      <th></th>\n",
       "      <th>Reported Date</th>\n",
       "      <th>Positive Cases</th>\n",
       "      <th>Total Cases</th>\n",
       "      <th>Deaths</th>\n",
       "      <th>Hospitalization</th>\n",
       "      <th>Enter ICU</th>\n",
       "      <th>ICU on ventilator</th>\n",
       "      <th>Total tests completed</th>\n",
       "    </tr>\n",
       "  </thead>\n",
       "  <tbody>\n",
       "    <tr>\n",
       "      <th>0</th>\n",
       "      <td>2020-01-26</td>\n",
       "      <td>0.0</td>\n",
       "      <td>0.0</td>\n",
       "      <td>0.0</td>\n",
       "      <td>0.0</td>\n",
       "      <td>0.0</td>\n",
       "      <td>0.0</td>\n",
       "      <td>0.0</td>\n",
       "    </tr>\n",
       "    <tr>\n",
       "      <th>1</th>\n",
       "      <td>2020-01-27</td>\n",
       "      <td>0.0</td>\n",
       "      <td>0.0</td>\n",
       "      <td>0.0</td>\n",
       "      <td>0.0</td>\n",
       "      <td>0.0</td>\n",
       "      <td>0.0</td>\n",
       "      <td>0.0</td>\n",
       "    </tr>\n",
       "    <tr>\n",
       "      <th>2</th>\n",
       "      <td>2020-01-28</td>\n",
       "      <td>1.0</td>\n",
       "      <td>1.0</td>\n",
       "      <td>0.0</td>\n",
       "      <td>0.0</td>\n",
       "      <td>0.0</td>\n",
       "      <td>0.0</td>\n",
       "      <td>0.0</td>\n",
       "    </tr>\n",
       "    <tr>\n",
       "      <th>3</th>\n",
       "      <td>2020-01-30</td>\n",
       "      <td>2.0</td>\n",
       "      <td>2.0</td>\n",
       "      <td>0.0</td>\n",
       "      <td>0.0</td>\n",
       "      <td>0.0</td>\n",
       "      <td>0.0</td>\n",
       "      <td>0.0</td>\n",
       "    </tr>\n",
       "    <tr>\n",
       "      <th>4</th>\n",
       "      <td>2020-01-31</td>\n",
       "      <td>2.0</td>\n",
       "      <td>2.0</td>\n",
       "      <td>0.0</td>\n",
       "      <td>0.0</td>\n",
       "      <td>0.0</td>\n",
       "      <td>0.0</td>\n",
       "      <td>0.0</td>\n",
       "    </tr>\n",
       "  </tbody>\n",
       "</table>\n",
       "</div>"
      ],
      "text/plain": [
       "  Reported Date  Positive Cases  Total Cases  Deaths  Hospitalization  \\\n",
       "0    2020-01-26             0.0          0.0     0.0              0.0   \n",
       "1    2020-01-27             0.0          0.0     0.0              0.0   \n",
       "2    2020-01-28             1.0          1.0     0.0              0.0   \n",
       "3    2020-01-30             2.0          2.0     0.0              0.0   \n",
       "4    2020-01-31             2.0          2.0     0.0              0.0   \n",
       "\n",
       "   Enter ICU  ICU on ventilator  Total tests completed  \n",
       "0        0.0                0.0                    0.0  \n",
       "1        0.0                0.0                    0.0  \n",
       "2        0.0                0.0                    0.0  \n",
       "3        0.0                0.0                    0.0  \n",
       "4        0.0                0.0                    0.0  "
      ]
     },
     "execution_count": 9,
     "metadata": {},
     "output_type": "execute_result"
    }
   ],
   "source": [
    "new_data = data[['Reported Date', 'Positive Cases', 'Total Cases', 'Deaths','Hospitalization', 'Enter ICU', 'ICU on ventilator', 'Total tests completed']]\n",
    "new_data.head()"
   ]
  },
  {
   "cell_type": "code",
   "execution_count": 10,
   "metadata": {},
   "outputs": [
    {
     "name": "stderr",
     "output_type": "stream",
     "text": [
      "/Users/abdirahmanali/.pyenv/versions/3.7.3/lib/python3.7/site-packages/ipykernel_launcher.py:2: SettingWithCopyWarning: \n",
      "A value is trying to be set on a copy of a slice from a DataFrame.\n",
      "Try using .loc[row_indexer,col_indexer] = value instead\n",
      "\n",
      "See the caveats in the documentation: https://pandas.pydata.org/pandas-docs/stable/user_guide/indexing.html#returning-a-view-versus-a-copy\n",
      "  \n",
      "/Users/abdirahmanali/.pyenv/versions/3.7.3/lib/python3.7/site-packages/ipykernel_launcher.py:3: SettingWithCopyWarning: \n",
      "A value is trying to be set on a copy of a slice from a DataFrame.\n",
      "Try using .loc[row_indexer,col_indexer] = value instead\n",
      "\n",
      "See the caveats in the documentation: https://pandas.pydata.org/pandas-docs/stable/user_guide/indexing.html#returning-a-view-versus-a-copy\n",
      "  This is separate from the ipykernel package so we can avoid doing imports until\n",
      "/Users/abdirahmanali/.pyenv/versions/3.7.3/lib/python3.7/site-packages/ipykernel_launcher.py:4: SettingWithCopyWarning: \n",
      "A value is trying to be set on a copy of a slice from a DataFrame.\n",
      "Try using .loc[row_indexer,col_indexer] = value instead\n",
      "\n",
      "See the caveats in the documentation: https://pandas.pydata.org/pandas-docs/stable/user_guide/indexing.html#returning-a-view-versus-a-copy\n",
      "  after removing the cwd from sys.path.\n",
      "/Users/abdirahmanali/.pyenv/versions/3.7.3/lib/python3.7/site-packages/ipykernel_launcher.py:5: SettingWithCopyWarning: \n",
      "A value is trying to be set on a copy of a slice from a DataFrame.\n",
      "Try using .loc[row_indexer,col_indexer] = value instead\n",
      "\n",
      "See the caveats in the documentation: https://pandas.pydata.org/pandas-docs/stable/user_guide/indexing.html#returning-a-view-versus-a-copy\n",
      "  \"\"\"\n",
      "/Users/abdirahmanali/.pyenv/versions/3.7.3/lib/python3.7/site-packages/ipykernel_launcher.py:6: SettingWithCopyWarning: \n",
      "A value is trying to be set on a copy of a slice from a DataFrame.\n",
      "Try using .loc[row_indexer,col_indexer] = value instead\n",
      "\n",
      "See the caveats in the documentation: https://pandas.pydata.org/pandas-docs/stable/user_guide/indexing.html#returning-a-view-versus-a-copy\n",
      "  \n",
      "/Users/abdirahmanali/.pyenv/versions/3.7.3/lib/python3.7/site-packages/ipykernel_launcher.py:7: SettingWithCopyWarning: \n",
      "A value is trying to be set on a copy of a slice from a DataFrame.\n",
      "Try using .loc[row_indexer,col_indexer] = value instead\n",
      "\n",
      "See the caveats in the documentation: https://pandas.pydata.org/pandas-docs/stable/user_guide/indexing.html#returning-a-view-versus-a-copy\n",
      "  import sys\n"
     ]
    }
   ],
   "source": [
    "#Import calculations\n",
    "new_data['New Cases'] = new_data['Total Cases'].diff()\n",
    "new_data['New Patients Hospitalized']=new_data['Hospitalization'].diff()\n",
    "new_data['New Patients in ICU'] = new_data['Enter ICU'].diff()\n",
    "new_data['New Patients on ventilator'] = new_data['ICU on ventilator'].diff()\n",
    "new_data['New Deaths'] = new_data['Deaths'].diff()\n",
    "new_data['Positivity Rate'] = new_data['Positive Cases']/new_data['Total tests completed']*100"
   ]
  },
  {
   "cell_type": "code",
   "execution_count": 11,
   "metadata": {},
   "outputs": [],
   "source": [
    "#Replace infinite and NAN with 0\n",
    "new_data = new_data.replace([np.inf, -np.inf], np.nan)\n",
    "new_data = new_data.fillna(0)"
   ]
  },
  {
   "cell_type": "code",
   "execution_count": 12,
   "metadata": {},
   "outputs": [
    {
     "data": {
      "text/html": [
       "<div>\n",
       "<style scoped>\n",
       "    .dataframe tbody tr th:only-of-type {\n",
       "        vertical-align: middle;\n",
       "    }\n",
       "\n",
       "    .dataframe tbody tr th {\n",
       "        vertical-align: top;\n",
       "    }\n",
       "\n",
       "    .dataframe thead th {\n",
       "        text-align: right;\n",
       "    }\n",
       "</style>\n",
       "<table border=\"1\" class=\"dataframe\">\n",
       "  <thead>\n",
       "    <tr style=\"text-align: right;\">\n",
       "      <th></th>\n",
       "      <th>Reported Date</th>\n",
       "      <th>New Cases</th>\n",
       "      <th>New Patients Hospitalized</th>\n",
       "      <th>New Patients in ICU</th>\n",
       "      <th>New Patients on ventilator</th>\n",
       "      <th>New Deaths</th>\n",
       "      <th>Positivity Rate</th>\n",
       "    </tr>\n",
       "  </thead>\n",
       "  <tbody>\n",
       "    <tr>\n",
       "      <th>306</th>\n",
       "      <td>2020-12-08</td>\n",
       "      <td>1676.0</td>\n",
       "      <td>69.0</td>\n",
       "      <td>6.0</td>\n",
       "      <td>11.0</td>\n",
       "      <td>10.0</td>\n",
       "      <td>41.203633</td>\n",
       "    </tr>\n",
       "    <tr>\n",
       "      <th>307</th>\n",
       "      <td>2020-12-09</td>\n",
       "      <td>1890.0</td>\n",
       "      <td>17.0</td>\n",
       "      <td>2.0</td>\n",
       "      <td>-3.0</td>\n",
       "      <td>28.0</td>\n",
       "      <td>33.141762</td>\n",
       "    </tr>\n",
       "    <tr>\n",
       "      <th>308</th>\n",
       "      <td>2020-12-10</td>\n",
       "      <td>1983.0</td>\n",
       "      <td>18.0</td>\n",
       "      <td>7.0</td>\n",
       "      <td>3.0</td>\n",
       "      <td>35.0</td>\n",
       "      <td>26.263166</td>\n",
       "    </tr>\n",
       "    <tr>\n",
       "      <th>309</th>\n",
       "      <td>2020-12-11</td>\n",
       "      <td>1848.0</td>\n",
       "      <td>-21.0</td>\n",
       "      <td>7.0</td>\n",
       "      <td>-8.0</td>\n",
       "      <td>45.0</td>\n",
       "      <td>25.825126</td>\n",
       "    </tr>\n",
       "    <tr>\n",
       "      <th>310</th>\n",
       "      <td>2020-12-12</td>\n",
       "      <td>1873.0</td>\n",
       "      <td>47.0</td>\n",
       "      <td>2.0</td>\n",
       "      <td>19.0</td>\n",
       "      <td>17.0</td>\n",
       "      <td>24.855961</td>\n",
       "    </tr>\n",
       "  </tbody>\n",
       "</table>\n",
       "</div>"
      ],
      "text/plain": [
       "    Reported Date  New Cases  New Patients Hospitalized  New Patients in ICU  \\\n",
       "306    2020-12-08     1676.0                       69.0                  6.0   \n",
       "307    2020-12-09     1890.0                       17.0                  2.0   \n",
       "308    2020-12-10     1983.0                       18.0                  7.0   \n",
       "309    2020-12-11     1848.0                      -21.0                  7.0   \n",
       "310    2020-12-12     1873.0                       47.0                  2.0   \n",
       "\n",
       "     New Patients on ventilator  New Deaths  Positivity Rate  \n",
       "306                        11.0        10.0        41.203633  \n",
       "307                        -3.0        28.0        33.141762  \n",
       "308                         3.0        35.0        26.263166  \n",
       "309                        -8.0        45.0        25.825126  \n",
       "310                        19.0        17.0        24.855961  "
      ]
     },
     "execution_count": 12,
     "metadata": {},
     "output_type": "execute_result"
    }
   ],
   "source": [
    "#Create new dataframe of important information\n",
    "data_new = new_data[['Reported Date','New Cases', 'New Patients Hospitalized','New Patients in ICU', 'New Patients on ventilator', 'New Deaths','Positivity Rate']]\n",
    "data_new.tail()"
   ]
  },
  {
   "cell_type": "code",
   "execution_count": 13,
   "metadata": {},
   "outputs": [
    {
     "data": {
      "text/html": [
       "<div>\n",
       "<style scoped>\n",
       "    .dataframe tbody tr th:only-of-type {\n",
       "        vertical-align: middle;\n",
       "    }\n",
       "\n",
       "    .dataframe tbody tr th {\n",
       "        vertical-align: top;\n",
       "    }\n",
       "\n",
       "    .dataframe thead th {\n",
       "        text-align: right;\n",
       "    }\n",
       "</style>\n",
       "<table border=\"1\" class=\"dataframe\">\n",
       "  <thead>\n",
       "    <tr style=\"text-align: right;\">\n",
       "      <th></th>\n",
       "      <th>New Cases</th>\n",
       "      <th>New Patients Hospitalized</th>\n",
       "      <th>New Patients in ICU</th>\n",
       "      <th>New Patients on ventilator</th>\n",
       "      <th>New Deaths</th>\n",
       "      <th>Positivity Rate</th>\n",
       "    </tr>\n",
       "    <tr>\n",
       "      <th>Reported Date</th>\n",
       "      <th></th>\n",
       "      <th></th>\n",
       "      <th></th>\n",
       "      <th></th>\n",
       "      <th></th>\n",
       "      <th></th>\n",
       "    </tr>\n",
       "  </thead>\n",
       "  <tbody>\n",
       "    <tr>\n",
       "      <th>2020-12-08</th>\n",
       "      <td>1676.0</td>\n",
       "      <td>69.0</td>\n",
       "      <td>6.0</td>\n",
       "      <td>11.0</td>\n",
       "      <td>10.0</td>\n",
       "      <td>41.203633</td>\n",
       "    </tr>\n",
       "    <tr>\n",
       "      <th>2020-12-09</th>\n",
       "      <td>1890.0</td>\n",
       "      <td>17.0</td>\n",
       "      <td>2.0</td>\n",
       "      <td>-3.0</td>\n",
       "      <td>28.0</td>\n",
       "      <td>33.141762</td>\n",
       "    </tr>\n",
       "    <tr>\n",
       "      <th>2020-12-10</th>\n",
       "      <td>1983.0</td>\n",
       "      <td>18.0</td>\n",
       "      <td>7.0</td>\n",
       "      <td>3.0</td>\n",
       "      <td>35.0</td>\n",
       "      <td>26.263166</td>\n",
       "    </tr>\n",
       "    <tr>\n",
       "      <th>2020-12-11</th>\n",
       "      <td>1848.0</td>\n",
       "      <td>-21.0</td>\n",
       "      <td>7.0</td>\n",
       "      <td>-8.0</td>\n",
       "      <td>45.0</td>\n",
       "      <td>25.825126</td>\n",
       "    </tr>\n",
       "    <tr>\n",
       "      <th>2020-12-12</th>\n",
       "      <td>1873.0</td>\n",
       "      <td>47.0</td>\n",
       "      <td>2.0</td>\n",
       "      <td>19.0</td>\n",
       "      <td>17.0</td>\n",
       "      <td>24.855961</td>\n",
       "    </tr>\n",
       "  </tbody>\n",
       "</table>\n",
       "</div>"
      ],
      "text/plain": [
       "               New Cases  New Patients Hospitalized  New Patients in ICU  \\\n",
       "Reported Date                                                              \n",
       "2020-12-08        1676.0                       69.0                  6.0   \n",
       "2020-12-09        1890.0                       17.0                  2.0   \n",
       "2020-12-10        1983.0                       18.0                  7.0   \n",
       "2020-12-11        1848.0                      -21.0                  7.0   \n",
       "2020-12-12        1873.0                       47.0                  2.0   \n",
       "\n",
       "               New Patients on ventilator  New Deaths  Positivity Rate  \n",
       "Reported Date                                                           \n",
       "2020-12-08                           11.0        10.0        41.203633  \n",
       "2020-12-09                           -3.0        28.0        33.141762  \n",
       "2020-12-10                            3.0        35.0        26.263166  \n",
       "2020-12-11                           -8.0        45.0        25.825126  \n",
       "2020-12-12                           19.0        17.0        24.855961  "
      ]
     },
     "execution_count": 13,
     "metadata": {},
     "output_type": "execute_result"
    }
   ],
   "source": [
    "dataa = data_new\n",
    "dataa = dataa.set_index('Reported Date')\n",
    "dataa.tail()"
   ]
  },
  {
   "cell_type": "code",
   "execution_count": 14,
   "metadata": {},
   "outputs": [
    {
     "data": {
      "text/html": [
       "<div>\n",
       "<style scoped>\n",
       "    .dataframe tbody tr th:only-of-type {\n",
       "        vertical-align: middle;\n",
       "    }\n",
       "\n",
       "    .dataframe tbody tr th {\n",
       "        vertical-align: top;\n",
       "    }\n",
       "\n",
       "    .dataframe thead th {\n",
       "        text-align: right;\n",
       "    }\n",
       "</style>\n",
       "<table border=\"1\" class=\"dataframe\">\n",
       "  <thead>\n",
       "    <tr style=\"text-align: right;\">\n",
       "      <th></th>\n",
       "      <th>New Cases</th>\n",
       "      <th>New Patients Hospitalized</th>\n",
       "      <th>New Patients in ICU</th>\n",
       "      <th>New Patients on ventilator</th>\n",
       "      <th>New Deaths</th>\n",
       "      <th>Positivity Rate</th>\n",
       "    </tr>\n",
       "    <tr>\n",
       "      <th>Reported Date</th>\n",
       "      <th></th>\n",
       "      <th></th>\n",
       "      <th></th>\n",
       "      <th></th>\n",
       "      <th></th>\n",
       "      <th></th>\n",
       "    </tr>\n",
       "  </thead>\n",
       "  <tbody>\n",
       "    <tr>\n",
       "      <th>2020-12-08</th>\n",
       "      <td>1676.0</td>\n",
       "      <td>69.0</td>\n",
       "      <td>6.0</td>\n",
       "      <td>11.0</td>\n",
       "      <td>10.0</td>\n",
       "      <td>41.203633</td>\n",
       "    </tr>\n",
       "    <tr>\n",
       "      <th>2020-12-09</th>\n",
       "      <td>1890.0</td>\n",
       "      <td>17.0</td>\n",
       "      <td>2.0</td>\n",
       "      <td>0.0</td>\n",
       "      <td>28.0</td>\n",
       "      <td>33.141762</td>\n",
       "    </tr>\n",
       "    <tr>\n",
       "      <th>2020-12-10</th>\n",
       "      <td>1983.0</td>\n",
       "      <td>18.0</td>\n",
       "      <td>7.0</td>\n",
       "      <td>3.0</td>\n",
       "      <td>35.0</td>\n",
       "      <td>26.263166</td>\n",
       "    </tr>\n",
       "    <tr>\n",
       "      <th>2020-12-11</th>\n",
       "      <td>1848.0</td>\n",
       "      <td>0.0</td>\n",
       "      <td>7.0</td>\n",
       "      <td>0.0</td>\n",
       "      <td>45.0</td>\n",
       "      <td>25.825126</td>\n",
       "    </tr>\n",
       "    <tr>\n",
       "      <th>2020-12-12</th>\n",
       "      <td>1873.0</td>\n",
       "      <td>47.0</td>\n",
       "      <td>2.0</td>\n",
       "      <td>19.0</td>\n",
       "      <td>17.0</td>\n",
       "      <td>24.855961</td>\n",
       "    </tr>\n",
       "  </tbody>\n",
       "</table>\n",
       "</div>"
      ],
      "text/plain": [
       "               New Cases  New Patients Hospitalized  New Patients in ICU  \\\n",
       "Reported Date                                                              \n",
       "2020-12-08        1676.0                       69.0                  6.0   \n",
       "2020-12-09        1890.0                       17.0                  2.0   \n",
       "2020-12-10        1983.0                       18.0                  7.0   \n",
       "2020-12-11        1848.0                        0.0                  7.0   \n",
       "2020-12-12        1873.0                       47.0                  2.0   \n",
       "\n",
       "               New Patients on ventilator  New Deaths  Positivity Rate  \n",
       "Reported Date                                                           \n",
       "2020-12-08                           11.0        10.0        41.203633  \n",
       "2020-12-09                            0.0        28.0        33.141762  \n",
       "2020-12-10                            3.0        35.0        26.263166  \n",
       "2020-12-11                            0.0        45.0        25.825126  \n",
       "2020-12-12                           19.0        17.0        24.855961  "
      ]
     },
     "execution_count": 14,
     "metadata": {},
     "output_type": "execute_result"
    }
   ],
   "source": [
    "#Replace negative values with 0\n",
    "dataa[dataa < 0] = 0\n",
    "dataa.tail()"
   ]
  },
  {
   "cell_type": "code",
   "execution_count": 15,
   "metadata": {},
   "outputs": [
    {
     "data": {
      "text/plain": [
       "Text(0.5, 1.0, 'Daily New Cases')"
      ]
     },
     "execution_count": 15,
     "metadata": {},
     "output_type": "execute_result"
    },
    {
     "data": {
      "text/plain": [
       "<Figure size 432x288 with 0 Axes>"
      ]
     },
     "metadata": {},
     "output_type": "display_data"
    },
    {
     "data": {
      "image/png": "[encoded data removed]",
      "text/plain": [
       "<Figure size 432x288 with 1 Axes>"
      ]
     },
     "metadata": {
      "needs_background": "light"
     },
     "output_type": "display_data"
    }
   ],
   "source": [
    "# plotting the daily new cases\n",
    "fig = plt.figure()  # initiate the figure environment\n",
    "dataa.plot(y='New Cases',color='green', linewidth=2, marker='o', legend=True)\n",
    "plt.ylabel('New Cases')\n",
    "# Make sure you change the title of the figure accordingly. \n",
    "plt.title('Daily New Cases')"
   ]
  },
  {
   "cell_type": "code",
   "execution_count": 16,
   "metadata": {},
   "outputs": [
    {
     "data": {
      "text/plain": [
       "Text(0.5, 1.0, 'New Patients Hospitalized')"
      ]
     },
     "execution_count": 16,
     "metadata": {},
     "output_type": "execute_result"
    },
    {
     "data": {
      "text/plain": [
       "<Figure size 432x288 with 0 Axes>"
      ]
     },
     "metadata": {},
     "output_type": "display_data"
    },
    {
     "data": {
      "image/png": "[encoded data removed]",
      "text/plain": [
       "<Figure size 432x288 with 1 Axes>"
      ]
     },
     "metadata": {
      "needs_background": "light"
     },
     "output_type": "display_data"
    }
   ],
   "source": [
    "# plotting the daily new patients hospitalization\n",
    "fig = plt.figure()  # initiate the figure environment\n",
    "dataa.plot(y='New Patients Hospitalized',color='blue', linewidth=2, marker='o', legend=True)\n",
    "plt.ylabel('New Patients Hospitalized')\n",
    "# Make sure you change the title of the figure accordingly. \n",
    "plt.title('New Patients Hospitalized')"
   ]
  },
  {
   "cell_type": "code",
   "execution_count": 17,
   "metadata": {},
   "outputs": [
    {
     "data": {
      "text/plain": [
       "Text(0.5, 1.0, 'New Patients in ICU')"
      ]
     },
     "execution_count": 17,
     "metadata": {},
     "output_type": "execute_result"
    },
    {
     "data": {
      "text/plain": [
       "<Figure size 432x288 with 0 Axes>"
      ]
     },
     "metadata": {},
     "output_type": "display_data"
    },
    {
     "data": {
      "image/png": "[encoded data removed]",
      "text/plain": [
       "<Figure size 432x288 with 1 Axes>"
      ]
     },
     "metadata": {
      "needs_background": "light"
     },
     "output_type": "display_data"
    }
   ],
   "source": [
    "# plotting the daily new patients in ICU\n",
    "fig = plt.figure()  # initiate the figure environment\n",
    "dataa.plot(y='New Patients in ICU',color='orange', linewidth=2, marker='o', legend=True)\n",
    "plt.ylabel('New Patients in ICU')\n",
    "# Make sure you change the title of the figure accordingly. \n",
    "plt.title('New Patients in ICU')"
   ]
  },
  {
   "cell_type": "code",
   "execution_count": 18,
   "metadata": {},
   "outputs": [
    {
     "data": {
      "text/plain": [
       "Text(0.5, 1.0, 'New Patients in ICU')"
      ]
     },
     "execution_count": 18,
     "metadata": {},
     "output_type": "execute_result"
    },
    {
     "data": {
      "text/plain": [
       "<Figure size 432x288 with 0 Axes>"
      ]
     },
     "metadata": {},
     "output_type": "display_data"
    },
    {
     "data": {
      "image/png": "[encoded data removed]",
      "text/plain": [
       "<Figure size 432x288 with 1 Axes>"
      ]
     },
     "metadata": {
      "needs_background": "light"
     },
     "output_type": "display_data"
    }
   ],
   "source": [
    "# plotting the daily new patients on ventialtor\n",
    "fig = plt.figure()  # initiate the figure environment\n",
    "dataa.plot(y='New Patients in ICU',color='purple', linewidth=2, marker='o', legend=True)\n",
    "plt.ylabel('New Patients in ICU')\n",
    "# Make sure you change the title of the figure accordingly. \n",
    "plt.title('New Patients in ICU')"
   ]
  },
  {
   "cell_type": "code",
   "execution_count": 19,
   "metadata": {},
   "outputs": [
    {
     "data": {
      "text/plain": [
       "Text(0.5, 1.0, 'New Deaths')"
      ]
     },
     "execution_count": 19,
     "metadata": {},
     "output_type": "execute_result"
    },
    {
     "data": {
      "text/plain": [
       "<Figure size 432x288 with 0 Axes>"
      ]
     },
     "metadata": {},
     "output_type": "display_data"
    },
    {
     "data": {
      "image/png": "[encoded data removed]",
      "text/plain": [
       "<Figure size 432x288 with 1 Axes>"
      ]
     },
     "metadata": {
      "needs_background": "light"
     },
     "output_type": "display_data"
    }
   ],
   "source": [
    "# plotting the daily new deaths\n",
    "fig = plt.figure()  # initiate the figure environment\n",
    "dataa.plot(y='New Deaths',color='red', linewidth=2, marker='o', legend=True)\n",
    "plt.ylabel('New Deaths')\n",
    "# Make sure you change the title of the figure accordingly. \n",
    "plt.title('New Deaths')"
   ]
  },
  {
   "cell_type": "code",
   "execution_count": 20,
   "metadata": {},
   "outputs": [
    {
     "data": {
      "text/plain": [
       "Text(0.5, 1.0, 'Positivity Rate')"
      ]
     },
     "execution_count": 20,
     "metadata": {},
     "output_type": "execute_result"
    },
    {
     "data": {
      "text/plain": [
       "<Figure size 432x288 with 0 Axes>"
      ]
     },
     "metadata": {},
     "output_type": "display_data"
    },
    {
     "data": {
      "image/png": "[encoded data removed]",
      "text/plain": [
       "<Figure size 432x288 with 1 Axes>"
      ]
     },
     "metadata": {
      "needs_background": "light"
     },
     "output_type": "display_data"
    }
   ],
   "source": [
    "# plotting the daily new patients on ventialtor\n",
    "fig = plt.figure()  # initiate the figure environment\n",
    "dataa.plot(y='Positivity Rate',color='black', linewidth=2, marker='o', legend=True)\n",
    "plt.ylabel('Positivity Rate')\n",
    "# Make sure you change the title of the figure accordingly. \n",
    "plt.title('Positivity Rate')"
   ]
  },
  {
   "cell_type": "markdown",
   "metadata": {},
   "source": [
    "## Create a time series data that takes the average of each week"
   ]
  },
  {
   "cell_type": "code",
   "execution_count": 21,
   "metadata": {},
   "outputs": [
    {
     "data": {
      "text/html": [
       "<div>\n",
       "<style scoped>\n",
       "    .dataframe tbody tr th:only-of-type {\n",
       "        vertical-align: middle;\n",
       "    }\n",
       "\n",
       "    .dataframe tbody tr th {\n",
       "        vertical-align: top;\n",
       "    }\n",
       "\n",
       "    .dataframe thead th {\n",
       "        text-align: right;\n",
       "    }\n",
       "</style>\n",
       "<table border=\"1\" class=\"dataframe\">\n",
       "  <thead>\n",
       "    <tr style=\"text-align: right;\">\n",
       "      <th></th>\n",
       "      <th>Reported Date</th>\n",
       "      <th>New Cases</th>\n",
       "      <th>New Patients Hospitalized</th>\n",
       "      <th>New Patients in ICU</th>\n",
       "      <th>New Patients on ventilator</th>\n",
       "      <th>New Deaths</th>\n",
       "      <th>Positivity Rate</th>\n",
       "    </tr>\n",
       "  </thead>\n",
       "  <tbody>\n",
       "    <tr>\n",
       "      <th>306</th>\n",
       "      <td>2020-12-08</td>\n",
       "      <td>1676.0</td>\n",
       "      <td>69.0</td>\n",
       "      <td>6.0</td>\n",
       "      <td>11.0</td>\n",
       "      <td>10.0</td>\n",
       "      <td>41.203633</td>\n",
       "    </tr>\n",
       "    <tr>\n",
       "      <th>307</th>\n",
       "      <td>2020-12-09</td>\n",
       "      <td>1890.0</td>\n",
       "      <td>17.0</td>\n",
       "      <td>2.0</td>\n",
       "      <td>-3.0</td>\n",
       "      <td>28.0</td>\n",
       "      <td>33.141762</td>\n",
       "    </tr>\n",
       "    <tr>\n",
       "      <th>308</th>\n",
       "      <td>2020-12-10</td>\n",
       "      <td>1983.0</td>\n",
       "      <td>18.0</td>\n",
       "      <td>7.0</td>\n",
       "      <td>3.0</td>\n",
       "      <td>35.0</td>\n",
       "      <td>26.263166</td>\n",
       "    </tr>\n",
       "    <tr>\n",
       "      <th>309</th>\n",
       "      <td>2020-12-11</td>\n",
       "      <td>1848.0</td>\n",
       "      <td>-21.0</td>\n",
       "      <td>7.0</td>\n",
       "      <td>-8.0</td>\n",
       "      <td>45.0</td>\n",
       "      <td>25.825126</td>\n",
       "    </tr>\n",
       "    <tr>\n",
       "      <th>310</th>\n",
       "      <td>2020-12-12</td>\n",
       "      <td>1873.0</td>\n",
       "      <td>47.0</td>\n",
       "      <td>2.0</td>\n",
       "      <td>19.0</td>\n",
       "      <td>17.0</td>\n",
       "      <td>24.855961</td>\n",
       "    </tr>\n",
       "  </tbody>\n",
       "</table>\n",
       "</div>"
      ],
      "text/plain": [
       "    Reported Date  New Cases  New Patients Hospitalized  New Patients in ICU  \\\n",
       "306    2020-12-08     1676.0                       69.0                  6.0   \n",
       "307    2020-12-09     1890.0                       17.0                  2.0   \n",
       "308    2020-12-10     1983.0                       18.0                  7.0   \n",
       "309    2020-12-11     1848.0                      -21.0                  7.0   \n",
       "310    2020-12-12     1873.0                       47.0                  2.0   \n",
       "\n",
       "     New Patients on ventilator  New Deaths  Positivity Rate  \n",
       "306                        11.0        10.0        41.203633  \n",
       "307                        -3.0        28.0        33.141762  \n",
       "308                         3.0        35.0        26.263166  \n",
       "309                        -8.0        45.0        25.825126  \n",
       "310                        19.0        17.0        24.855961  "
      ]
     },
     "execution_count": 21,
     "metadata": {},
     "output_type": "execute_result"
    }
   ],
   "source": [
    "#Create new dataframe\n",
    "new_dataa = data_new\n",
    "new_dataa.tail()"
   ]
  },
  {
   "cell_type": "code",
   "execution_count": 22,
   "metadata": {},
   "outputs": [
    {
     "name": "stderr",
     "output_type": "stream",
     "text": [
      "/Users/abdirahmanali/.pyenv/versions/3.7.3/lib/python3.7/site-packages/ipykernel_launcher.py:3: SettingWithCopyWarning: \n",
      "A value is trying to be set on a copy of a slice from a DataFrame.\n",
      "Try using .loc[row_indexer,col_indexer] = value instead\n",
      "\n",
      "See the caveats in the documentation: https://pandas.pydata.org/pandas-docs/stable/user_guide/indexing.html#returning-a-view-versus-a-copy\n",
      "  This is separate from the ipykernel package so we can avoid doing imports until\n"
     ]
    },
    {
     "data": {
      "text/html": [
       "<div>\n",
       "<style scoped>\n",
       "    .dataframe tbody tr th:only-of-type {\n",
       "        vertical-align: middle;\n",
       "    }\n",
       "\n",
       "    .dataframe tbody tr th {\n",
       "        vertical-align: top;\n",
       "    }\n",
       "\n",
       "    .dataframe thead th {\n",
       "        text-align: right;\n",
       "    }\n",
       "</style>\n",
       "<table border=\"1\" class=\"dataframe\">\n",
       "  <thead>\n",
       "    <tr style=\"text-align: right;\">\n",
       "      <th></th>\n",
       "      <th>Reported Date</th>\n",
       "      <th>New Cases</th>\n",
       "      <th>New Patients Hospitalized</th>\n",
       "      <th>New Patients in ICU</th>\n",
       "      <th>New Patients on ventilator</th>\n",
       "      <th>New Deaths</th>\n",
       "      <th>Positivity Rate</th>\n",
       "      <th>Reported Week</th>\n",
       "    </tr>\n",
       "  </thead>\n",
       "  <tbody>\n",
       "    <tr>\n",
       "      <th>0</th>\n",
       "      <td>2020-01-26</td>\n",
       "      <td>0.0</td>\n",
       "      <td>0.0</td>\n",
       "      <td>0.0</td>\n",
       "      <td>0.0</td>\n",
       "      <td>0.0</td>\n",
       "      <td>0.0</td>\n",
       "      <td>2020-02-02</td>\n",
       "    </tr>\n",
       "    <tr>\n",
       "      <th>1</th>\n",
       "      <td>2020-01-27</td>\n",
       "      <td>0.0</td>\n",
       "      <td>0.0</td>\n",
       "      <td>0.0</td>\n",
       "      <td>0.0</td>\n",
       "      <td>0.0</td>\n",
       "      <td>0.0</td>\n",
       "      <td>2020-02-02</td>\n",
       "    </tr>\n",
       "    <tr>\n",
       "      <th>2</th>\n",
       "      <td>2020-01-28</td>\n",
       "      <td>1.0</td>\n",
       "      <td>0.0</td>\n",
       "      <td>0.0</td>\n",
       "      <td>0.0</td>\n",
       "      <td>0.0</td>\n",
       "      <td>0.0</td>\n",
       "      <td>2020-02-02</td>\n",
       "    </tr>\n",
       "    <tr>\n",
       "      <th>3</th>\n",
       "      <td>2020-01-30</td>\n",
       "      <td>1.0</td>\n",
       "      <td>0.0</td>\n",
       "      <td>0.0</td>\n",
       "      <td>0.0</td>\n",
       "      <td>0.0</td>\n",
       "      <td>0.0</td>\n",
       "      <td>2020-02-02</td>\n",
       "    </tr>\n",
       "    <tr>\n",
       "      <th>4</th>\n",
       "      <td>2020-01-31</td>\n",
       "      <td>0.0</td>\n",
       "      <td>0.0</td>\n",
       "      <td>0.0</td>\n",
       "      <td>0.0</td>\n",
       "      <td>0.0</td>\n",
       "      <td>0.0</td>\n",
       "      <td>2020-02-02</td>\n",
       "    </tr>\n",
       "  </tbody>\n",
       "</table>\n",
       "</div>"
      ],
      "text/plain": [
       "  Reported Date  New Cases  New Patients Hospitalized  New Patients in ICU  \\\n",
       "0    2020-01-26        0.0                        0.0                  0.0   \n",
       "1    2020-01-27        0.0                        0.0                  0.0   \n",
       "2    2020-01-28        1.0                        0.0                  0.0   \n",
       "3    2020-01-30        1.0                        0.0                  0.0   \n",
       "4    2020-01-31        0.0                        0.0                  0.0   \n",
       "\n",
       "   New Patients on ventilator  New Deaths  Positivity Rate Reported Week  \n",
       "0                         0.0         0.0              0.0    2020-02-02  \n",
       "1                         0.0         0.0              0.0    2020-02-02  \n",
       "2                         0.0         0.0              0.0    2020-02-02  \n",
       "3                         0.0         0.0              0.0    2020-02-02  \n",
       "4                         0.0         0.0              0.0    2020-02-02  "
      ]
     },
     "execution_count": 22,
     "metadata": {},
     "output_type": "execute_result"
    }
   ],
   "source": [
    "#Create a column that has the end of week\n",
    "from pandas.tseries.offsets import *\n",
    "new_dataa['Reported Week'] = new_dataa['Reported Date'] + Week(weekday=6)\n",
    "new_dataa.head()"
   ]
  },
  {
   "cell_type": "code",
   "execution_count": 23,
   "metadata": {},
   "outputs": [],
   "source": [
    "#Find the averages per week\n",
    "#This gives us a better outlook on the week compated to daily shock increases\n",
    "\n",
    "data2 = new_dataa[['Reported Week','New Cases','New Patients Hospitalized','New Patients in ICU', 'New Patients on ventilator', 'New Deaths','Positivity Rate']]\n",
    "data2 = data2.set_index('Reported Week')"
   ]
  },
  {
   "cell_type": "code",
   "execution_count": 24,
   "metadata": {},
   "outputs": [
    {
     "data": {
      "text/html": [
       "<div>\n",
       "<style scoped>\n",
       "    .dataframe tbody tr th:only-of-type {\n",
       "        vertical-align: middle;\n",
       "    }\n",
       "\n",
       "    .dataframe tbody tr th {\n",
       "        vertical-align: top;\n",
       "    }\n",
       "\n",
       "    .dataframe thead th {\n",
       "        text-align: right;\n",
       "    }\n",
       "</style>\n",
       "<table border=\"1\" class=\"dataframe\">\n",
       "  <thead>\n",
       "    <tr style=\"text-align: right;\">\n",
       "      <th></th>\n",
       "      <th>New Cases</th>\n",
       "      <th>New Patients Hospitalized</th>\n",
       "      <th>New Patients in ICU</th>\n",
       "      <th>New Patients on ventilator</th>\n",
       "      <th>New Deaths</th>\n",
       "      <th>Positivity Rate</th>\n",
       "    </tr>\n",
       "    <tr>\n",
       "      <th>Reported Week</th>\n",
       "      <th></th>\n",
       "      <th></th>\n",
       "      <th></th>\n",
       "      <th></th>\n",
       "      <th></th>\n",
       "      <th></th>\n",
       "    </tr>\n",
       "  </thead>\n",
       "  <tbody>\n",
       "    <tr>\n",
       "      <th>2020-12-13</th>\n",
       "      <td>1676.0</td>\n",
       "      <td>69.0</td>\n",
       "      <td>6.0</td>\n",
       "      <td>11.0</td>\n",
       "      <td>10.0</td>\n",
       "      <td>41.203633</td>\n",
       "    </tr>\n",
       "    <tr>\n",
       "      <th>2020-12-13</th>\n",
       "      <td>1890.0</td>\n",
       "      <td>17.0</td>\n",
       "      <td>2.0</td>\n",
       "      <td>0.0</td>\n",
       "      <td>28.0</td>\n",
       "      <td>33.141762</td>\n",
       "    </tr>\n",
       "    <tr>\n",
       "      <th>2020-12-13</th>\n",
       "      <td>1983.0</td>\n",
       "      <td>18.0</td>\n",
       "      <td>7.0</td>\n",
       "      <td>3.0</td>\n",
       "      <td>35.0</td>\n",
       "      <td>26.263166</td>\n",
       "    </tr>\n",
       "    <tr>\n",
       "      <th>2020-12-13</th>\n",
       "      <td>1848.0</td>\n",
       "      <td>0.0</td>\n",
       "      <td>7.0</td>\n",
       "      <td>0.0</td>\n",
       "      <td>45.0</td>\n",
       "      <td>25.825126</td>\n",
       "    </tr>\n",
       "    <tr>\n",
       "      <th>2020-12-13</th>\n",
       "      <td>1873.0</td>\n",
       "      <td>47.0</td>\n",
       "      <td>2.0</td>\n",
       "      <td>19.0</td>\n",
       "      <td>17.0</td>\n",
       "      <td>24.855961</td>\n",
       "    </tr>\n",
       "  </tbody>\n",
       "</table>\n",
       "</div>"
      ],
      "text/plain": [
       "               New Cases  New Patients Hospitalized  New Patients in ICU  \\\n",
       "Reported Week                                                              \n",
       "2020-12-13        1676.0                       69.0                  6.0   \n",
       "2020-12-13        1890.0                       17.0                  2.0   \n",
       "2020-12-13        1983.0                       18.0                  7.0   \n",
       "2020-12-13        1848.0                        0.0                  7.0   \n",
       "2020-12-13        1873.0                       47.0                  2.0   \n",
       "\n",
       "               New Patients on ventilator  New Deaths  Positivity Rate  \n",
       "Reported Week                                                           \n",
       "2020-12-13                           11.0        10.0        41.203633  \n",
       "2020-12-13                            0.0        28.0        33.141762  \n",
       "2020-12-13                            3.0        35.0        26.263166  \n",
       "2020-12-13                            0.0        45.0        25.825126  \n",
       "2020-12-13                           19.0        17.0        24.855961  "
      ]
     },
     "execution_count": 24,
     "metadata": {},
     "output_type": "execute_result"
    }
   ],
   "source": [
    "#Replace negative values with 0\n",
    "data2[data2 < 0] = 0\n",
    "data2.tail()"
   ]
  },
  {
   "cell_type": "code",
   "execution_count": 25,
   "metadata": {},
   "outputs": [
    {
     "data": {
      "text/html": [
       "<div>\n",
       "<style scoped>\n",
       "    .dataframe tbody tr th:only-of-type {\n",
       "        vertical-align: middle;\n",
       "    }\n",
       "\n",
       "    .dataframe tbody tr th {\n",
       "        vertical-align: top;\n",
       "    }\n",
       "\n",
       "    .dataframe thead th {\n",
       "        text-align: right;\n",
       "    }\n",
       "</style>\n",
       "<table border=\"1\" class=\"dataframe\">\n",
       "  <thead>\n",
       "    <tr style=\"text-align: right;\">\n",
       "      <th></th>\n",
       "      <th>New Cases</th>\n",
       "      <th>New Patients Hospitalized</th>\n",
       "      <th>New Patients in ICU</th>\n",
       "      <th>New Patients on ventilator</th>\n",
       "      <th>New Deaths</th>\n",
       "      <th>Positivity Rate</th>\n",
       "    </tr>\n",
       "    <tr>\n",
       "      <th>Reported Week</th>\n",
       "      <th></th>\n",
       "      <th></th>\n",
       "      <th></th>\n",
       "      <th></th>\n",
       "      <th></th>\n",
       "      <th></th>\n",
       "    </tr>\n",
       "  </thead>\n",
       "  <tbody>\n",
       "    <tr>\n",
       "      <th>2020-11-15</th>\n",
       "      <td>1419.0</td>\n",
       "      <td>19.0</td>\n",
       "      <td>4.0</td>\n",
       "      <td>2.0</td>\n",
       "      <td>16.0</td>\n",
       "      <td>29.0</td>\n",
       "    </tr>\n",
       "    <tr>\n",
       "      <th>2020-11-22</th>\n",
       "      <td>1374.0</td>\n",
       "      <td>8.0</td>\n",
       "      <td>6.0</td>\n",
       "      <td>4.0</td>\n",
       "      <td>20.0</td>\n",
       "      <td>34.0</td>\n",
       "    </tr>\n",
       "    <tr>\n",
       "      <th>2020-11-29</th>\n",
       "      <td>1523.0</td>\n",
       "      <td>20.0</td>\n",
       "      <td>2.0</td>\n",
       "      <td>3.0</td>\n",
       "      <td>22.0</td>\n",
       "      <td>31.0</td>\n",
       "    </tr>\n",
       "    <tr>\n",
       "      <th>2020-12-06</th>\n",
       "      <td>1764.0</td>\n",
       "      <td>18.0</td>\n",
       "      <td>8.0</td>\n",
       "      <td>4.0</td>\n",
       "      <td>19.0</td>\n",
       "      <td>31.0</td>\n",
       "    </tr>\n",
       "    <tr>\n",
       "      <th>2020-12-13</th>\n",
       "      <td>1874.0</td>\n",
       "      <td>25.0</td>\n",
       "      <td>5.0</td>\n",
       "      <td>6.0</td>\n",
       "      <td>25.0</td>\n",
       "      <td>30.0</td>\n",
       "    </tr>\n",
       "  </tbody>\n",
       "</table>\n",
       "</div>"
      ],
      "text/plain": [
       "               New Cases  New Patients Hospitalized  New Patients in ICU  \\\n",
       "Reported Week                                                              \n",
       "2020-11-15        1419.0                       19.0                  4.0   \n",
       "2020-11-22        1374.0                        8.0                  6.0   \n",
       "2020-11-29        1523.0                       20.0                  2.0   \n",
       "2020-12-06        1764.0                       18.0                  8.0   \n",
       "2020-12-13        1874.0                       25.0                  5.0   \n",
       "\n",
       "               New Patients on ventilator  New Deaths  Positivity Rate  \n",
       "Reported Week                                                           \n",
       "2020-11-15                            2.0        16.0             29.0  \n",
       "2020-11-22                            4.0        20.0             34.0  \n",
       "2020-11-29                            3.0        22.0             31.0  \n",
       "2020-12-06                            4.0        19.0             31.0  \n",
       "2020-12-13                            6.0        25.0             30.0  "
      ]
     },
     "execution_count": 25,
     "metadata": {},
     "output_type": "execute_result"
    }
   ],
   "source": [
    "# Group by index and the average\n",
    "data2 = round(data2.groupby(['Reported Week']).mean(),0)\n",
    "data2.tail()"
   ]
  },
  {
   "cell_type": "code",
   "execution_count": 26,
   "metadata": {},
   "outputs": [
    {
     "data": {
      "text/plain": [
       "<matplotlib.lines.Line2D at 0x1166ceac8>"
      ]
     },
     "execution_count": 26,
     "metadata": {},
     "output_type": "execute_result"
    },
    {
     "data": {
      "image/png": "[encoded data removed]",
      "text/plain": [
       "<Figure size 432x288 with 1 Axes>"
      ]
     },
     "metadata": {
      "needs_background": "light"
     },
     "output_type": "display_data"
    }
   ],
   "source": [
    "# plotting the average new cases per week around the time when cities moved to stage 1, 2 and 3\n",
    "fig = plt.figure()  # initiate the figure environment\n",
    "data2['New Cases'].plot(color='green', linewidth=2, marker='o', legend=True)\n",
    "plt.ylabel('New Cases')\n",
    "# Make sure you change the title of the figure accordingly. \n",
    "plt.title('7-Day Moving Average of New Cases')\n",
    "# This last line of code draws the vertical line in the plot when the last city moved to stage 1, 2 and 3\n",
    "plt.axvline(x='2020-05-19', color='k', linestyle='-.', alpha=.5, label='Stage 1')\n",
    "plt.axvline(x='2020-06-12', color='k', linestyle='-.', alpha=.5, label='Stage 2')\n",
    "plt.axvline(x='2020-07-29', color='k', linestyle='-.', alpha=.5, label='Stage 3')"
   ]
  },
  {
   "cell_type": "code",
   "execution_count": 27,
   "metadata": {},
   "outputs": [
    {
     "data": {
      "text/plain": [
       "<matplotlib.lines.Line2D at 0x1167b0128>"
      ]
     },
     "execution_count": 27,
     "metadata": {},
     "output_type": "execute_result"
    },
    {
     "data": {
      "image/png": "[encoded data removed]",
      "text/plain": [
       "<Figure size 432x288 with 1 Axes>"
      ]
     },
     "metadata": {
      "needs_background": "light"
     },
     "output_type": "display_data"
    }
   ],
   "source": [
    "# plotting the average hospitalizations per week around the time when cities moved to stage 1, 2 and 3\n",
    "fig = plt.figure()  # initiate the figure environment\n",
    "data2['New Patients Hospitalized'].plot(label='Hospitalizations',kind=\"line\", legend=True, linewidth=2, marker='o', color='blue')\n",
    "\n",
    "# Make sure you change the title of the figure accordingly. \n",
    "plt.title('7 Day Moving Average of New Hospitalization')\n",
    "\n",
    "# This last line of code draws the vertical line in the plot when the last city moved to stage 1, 2 and 3\n",
    "plt.axvline(x='2020-05-19', color='k', linestyle='-.', alpha=.5, label='Stage 1')\n",
    "plt.axvline(x='2020-06-12', color='k', linestyle='-.', alpha=.5, label='Stage 2')\n",
    "plt.axvline(x='2020-07-29', color='k', linestyle='-.', alpha=.5, label='Stage 3')"
   ]
  },
  {
   "cell_type": "code",
   "execution_count": 28,
   "metadata": {},
   "outputs": [
    {
     "data": {
      "text/plain": [
       "<matplotlib.lines.Line2D at 0x116889208>"
      ]
     },
     "execution_count": 28,
     "metadata": {},
     "output_type": "execute_result"
    },
    {
     "data": {
      "image/png": "[encoded data removed]",
      "text/plain": [
       "<Figure size 432x288 with 1 Axes>"
      ]
     },
     "metadata": {
      "needs_background": "light"
     },
     "output_type": "display_data"
    }
   ],
   "source": [
    "# plotting the average entering the ICU per week around the time when cities moved to stage 1, 2 and 3\n",
    "data2['New Patients in ICU'].plot(label='New Patients in ICU',kind=\"line\", legend=True, linewidth=2, marker='o', color='orange')\n",
    "\n",
    "# Make sure you change the title of the figure accordingly. \n",
    "plt.title('7 Day Moving Average for New Patients in ICU')\n",
    "\n",
    "# This last line of code draws the vertical line in the plot when the last city moved to stage 1, 2 and 3\n",
    "plt.axvline(x='2020-05-19', color='k', linestyle='-.', alpha=.5, label='Stage 2')\n",
    "plt.axvline(x='2020-06-12', color='k', linestyle='-.', alpha=.5, label='Stage 2')\n",
    "plt.axvline(x='2020-07-29', color='k', linestyle='-.', alpha=.5, label='Stage 3')"
   ]
  },
  {
   "cell_type": "code",
   "execution_count": 29,
   "metadata": {},
   "outputs": [
    {
     "data": {
      "text/plain": [
       "<matplotlib.lines.Line2D at 0x11695c630>"
      ]
     },
     "execution_count": 29,
     "metadata": {},
     "output_type": "execute_result"
    },
    {
     "data": {
      "image/png": "[encoded data removed]",
      "text/plain": [
       "<Figure size 432x288 with 1 Axes>"
      ]
     },
     "metadata": {
      "needs_background": "light"
     },
     "output_type": "display_data"
    }
   ],
   "source": [
    "# plotting the average who use a venitaltor in the ICU per week around the time when cities moved to stage 1, 2 and 3\n",
    "data2['New Patients on ventilator'].plot(label='New Patients on ventilator',kind=\"line\", legend=True, linewidth=2, marker='o', color='purple')\n",
    "\n",
    "# Make sure you change the title of the figure accordingly. \n",
    "plt.title('7 Day Moving Average New Patients on ventilator')\n",
    "\n",
    "# This last line of code draws the vertical line in the plot when the last city moved to stage 1, 2 and 3\n",
    "plt.axvline(x='2020-05-19', color='k', linestyle='-.', alpha=.5, label='Stage 2')\n",
    "plt.axvline(x='2020-06-12', color='k', linestyle='-.', alpha=.5, label='Stage 2')\n",
    "plt.axvline(x='2020-07-29', color='k', linestyle='-.', alpha=.5, label='Stage 3')"
   ]
  },
  {
   "cell_type": "code",
   "execution_count": 30,
   "metadata": {},
   "outputs": [
    {
     "data": {
      "text/plain": [
       "<matplotlib.lines.Line2D at 0x11675c8d0>"
      ]
     },
     "execution_count": 30,
     "metadata": {},
     "output_type": "execute_result"
    },
    {
     "data": {
      "image/png": "[encoded data removed]",
      "text/plain": [
       "<Figure size 432x288 with 1 Axes>"
      ]
     },
     "metadata": {
      "needs_background": "light"
     },
     "output_type": "display_data"
    }
   ],
   "source": [
    "#plotting the average who use a venitaltor in the ICU per week around the time when cities moved to stage 1, 2 and 3\n",
    "data2['New Deaths'].plot(label='New Deaths',kind=\"line\", legend=True, linewidth=2, marker='o', color='red')\n",
    "\n",
    "# Make sure you change the title of the figure accordingly. \n",
    "plt.title('7 Day Moving Average New Deaths')\n",
    "\n",
    "# This last line of code draws the vertical line in the plot when the last city moved to stage 1, 2 and 3\n",
    "plt.axvline(x='2020-05-19', color='k', linestyle='-.', alpha=.5, label='Stage 2')\n",
    "plt.axvline(x='2020-06-12', color='k', linestyle='-.', alpha=.5, label='Stage 2')\n",
    "plt.axvline(x='2020-07-29', color='k', linestyle='-.', alpha=.5, label='Stage 3')"
   ]
  },
  {
   "cell_type": "code",
   "execution_count": 31,
   "metadata": {},
   "outputs": [
    {
     "data": {
      "text/plain": [
       "<matplotlib.lines.Line2D at 0x116aa6c50>"
      ]
     },
     "execution_count": 31,
     "metadata": {},
     "output_type": "execute_result"
    },
    {
     "data": {
      "image/png": "[encoded data removed]",
      "text/plain": [
       "<Figure size 432x288 with 1 Axes>"
      ]
     },
     "metadata": {
      "needs_background": "light"
     },
     "output_type": "display_data"
    }
   ],
   "source": [
    "# plotting the average who use a venitaltor in the ICU per week around the time when cities moved to stage 1, 2 and 3\n",
    "data2['Positivity Rate'].plot(label='Positivity Rate',kind=\"line\", legend=True, linewidth=2, marker='o', color='black')\n",
    "\n",
    "# Make sure you change the title of the figure accordingly. \n",
    "plt.title('7 Day Moving Average Positivity Rate')\n",
    "plt.ylabel('Positivity Rate %')\n",
    "\n",
    "# This last line of code draws the vertical line in the plot when the last city moved to stage 1, 2 and 3\n",
    "plt.axvline(x='2020-05-19', color='k', linestyle='-.', alpha=.5, label='Stage 2')\n",
    "plt.axvline(x='2020-06-12', color='k', linestyle='-.', alpha=.5, label='Stage 2')\n",
    "plt.axvline(x='2020-07-29', color='k', linestyle='-.', alpha=.5, label='Stage 3')"
   ]
  },
  {
   "cell_type": "markdown",
   "metadata": {},
   "source": [
    "### Regression Modelling\n",
    "\n",
    "#### Constructing a simple regression model that is setting hospitalization as a function of new cases. Therefore we are assuming that as new cases increase, patients admitted into hospitalization will increase."
   ]
  },
  {
   "cell_type": "code",
   "execution_count": 32,
   "metadata": {},
   "outputs": [],
   "source": [
    "import statsmodels.api as sm\n",
    "from statsmodels.formula.api import ols\n",
    "from statsmodels.sandbox.regression.predstd import wls_prediction_std"
   ]
  },
  {
   "cell_type": "code",
   "execution_count": 33,
   "metadata": {},
   "outputs": [],
   "source": [
    "covid = data2.rename(columns={'New Cases': 'New_Cases', 'New Patients Hospitalized':'Hospitalization', 'New Patients in ICU':'Enter_ICU', 'New Patients on ventilator':'Ventilator', 'New Deaths':'New_Deaths', 'Positivity Rate':'Positivity_Rate'})\n",
    "covid = covid.reset_index()"
   ]
  },
  {
   "cell_type": "code",
   "execution_count": 34,
   "metadata": {},
   "outputs": [
    {
     "data": {
      "text/html": [
       "<table class=\"simpletable\">\n",
       "<caption>OLS Regression Results</caption>\n",
       "<tr>\n",
       "  <th>Dep. Variable:</th>     <td>Hospitalization</td> <th>  R-squared:         </th> <td>   0.184</td>\n",
       "</tr>\n",
       "<tr>\n",
       "  <th>Model:</th>                   <td>OLS</td>       <th>  Adj. R-squared:    </th> <td>   0.166</td>\n",
       "</tr>\n",
       "<tr>\n",
       "  <th>Method:</th>             <td>Least Squares</td>  <th>  F-statistic:       </th> <td>   9.943</td>\n",
       "</tr>\n",
       "<tr>\n",
       "  <th>Date:</th>             <td>Sat, 12 Dec 2020</td> <th>  Prob (F-statistic):</th>  <td>0.00291</td>\n",
       "</tr>\n",
       "<tr>\n",
       "  <th>Time:</th>                 <td>10:07:51</td>     <th>  Log-Likelihood:    </th> <td> -174.81</td>\n",
       "</tr>\n",
       "<tr>\n",
       "  <th>No. Observations:</th>      <td>    46</td>      <th>  AIC:               </th> <td>   353.6</td>\n",
       "</tr>\n",
       "<tr>\n",
       "  <th>Df Residuals:</th>          <td>    44</td>      <th>  BIC:               </th> <td>   357.3</td>\n",
       "</tr>\n",
       "<tr>\n",
       "  <th>Df Model:</th>              <td>     1</td>      <th>                     </th>     <td> </td>   \n",
       "</tr>\n",
       "<tr>\n",
       "  <th>Covariance Type:</th>      <td>nonrobust</td>    <th>                     </th>     <td> </td>   \n",
       "</tr>\n",
       "</table>\n",
       "<table class=\"simpletable\">\n",
       "<tr>\n",
       "      <td></td>         <th>coef</th>     <th>std err</th>      <th>t</th>      <th>P>|t|</th>  <th>[0.025</th>    <th>0.975]</th>  \n",
       "</tr>\n",
       "<tr>\n",
       "  <th>Intercept</th> <td>    3.7860</td> <td>    2.189</td> <td>    1.729</td> <td> 0.091</td> <td>   -0.626</td> <td>    8.198</td>\n",
       "</tr>\n",
       "<tr>\n",
       "  <th>New_Cases</th> <td>    0.0107</td> <td>    0.003</td> <td>    3.153</td> <td> 0.003</td> <td>    0.004</td> <td>    0.018</td>\n",
       "</tr>\n",
       "</table>\n",
       "<table class=\"simpletable\">\n",
       "<tr>\n",
       "  <th>Omnibus:</th>       <td>82.017</td> <th>  Durbin-Watson:     </th> <td>   1.380</td> \n",
       "</tr>\n",
       "<tr>\n",
       "  <th>Prob(Omnibus):</th> <td> 0.000</td> <th>  Jarque-Bera (JB):  </th> <td>1330.992</td> \n",
       "</tr>\n",
       "<tr>\n",
       "  <th>Skew:</th>          <td> 4.694</td> <th>  Prob(JB):          </th> <td>9.52e-290</td>\n",
       "</tr>\n",
       "<tr>\n",
       "  <th>Kurtosis:</th>      <td>27.623</td> <th>  Cond. No.          </th> <td>    866.</td> \n",
       "</tr>\n",
       "</table><br/><br/>Notes:<br/>[1] Standard Errors assume that the covariance matrix of the errors is correctly specified."
      ],
      "text/plain": [
       "<class 'statsmodels.iolib.summary.Summary'>\n",
       "\"\"\"\n",
       "                            OLS Regression Results                            \n",
       "==============================================================================\n",
       "Dep. Variable:        Hospitalization   R-squared:                       0.184\n",
       "Model:                            OLS   Adj. R-squared:                  0.166\n",
       "Method:                 Least Squares   F-statistic:                     9.943\n",
       "Date:                Sat, 12 Dec 2020   Prob (F-statistic):            0.00291\n",
       "Time:                        10:07:51   Log-Likelihood:                -174.81\n",
       "No. Observations:                  46   AIC:                             353.6\n",
       "Df Residuals:                      44   BIC:                             357.3\n",
       "Df Model:                           1                                         \n",
       "Covariance Type:            nonrobust                                         \n",
       "==============================================================================\n",
       "                 coef    std err          t      P>|t|      [0.025      0.975]\n",
       "------------------------------------------------------------------------------\n",
       "Intercept      3.7860      2.189      1.729      0.091      -0.626       8.198\n",
       "New_Cases      0.0107      0.003      3.153      0.003       0.004       0.018\n",
       "==============================================================================\n",
       "Omnibus:                       82.017   Durbin-Watson:                   1.380\n",
       "Prob(Omnibus):                  0.000   Jarque-Bera (JB):             1330.992\n",
       "Skew:                           4.694   Prob(JB):                    9.52e-290\n",
       "Kurtosis:                      27.623   Cond. No.                         866.\n",
       "==============================================================================\n",
       "\n",
       "Notes:\n",
       "[1] Standard Errors assume that the covariance matrix of the errors is correctly specified.\n",
       "\"\"\""
      ]
     },
     "execution_count": 34,
     "metadata": {},
     "output_type": "execute_result"
    }
   ],
   "source": [
    "# Predict Hospitalization\n",
    "# fit our model with .fit() and show results\n",
    "# we use statsmodels' formula API to invoke the syntax below,\n",
    "# where we write out the formula using ~\n",
    "covid_model = ols(\"Hospitalization~New_Cases\", data=covid).fit()\n",
    "\n",
    "# summarize our model\n",
    "covid_model_summary = covid_model.summary()\n",
    "\n",
    "# Show Results\n",
    "covid_model_summary"
   ]
  },
  {
   "cell_type": "markdown",
   "metadata": {},
   "source": [
    "#### Adj. R-squared indicates that ~17% of hospitalization can be explained by our predictor variable, new cases\n",
    "\n",
    "#### The regression coefficient (coef) represents the change in the dependent variable resulting from a one unit change in the predictor variable, all other variables being held constant. In our model, a one unit increase in new cases increases hospitalizations by 0.0107. This is in line with our initial assumption that as new cases increase, hospitalization increases.\n",
    "\n",
    "#### The standard error measures the accuracy of new cases coefficient by estimating the variation of the coefficient if the same test were run on a different sample of our population. Our standard error, 0.003, is low and therefore appears accurate.\n",
    "\n",
    "#### The p-value means the probability of an 0.0107  increase in hospitalization is due to a one unit increase in new cases, which is at 0.3%. This is assuming that there is no relationship between the two variables. A low p-value indicates that the results are statistically significant, that is in general the p-value is less than 5%.\n",
    "\n",
    "#### The confidence interval is a range within which our coefficient is likely to fall. We can be 95% confident that new cases coefficient will be within our confidence interval, [0.004\t0.018]"
   ]
  },
  {
   "cell_type": "code",
   "execution_count": 35,
   "metadata": {
    "scrolled": true
   },
   "outputs": [
    {
     "data": {
      "image/png": "[encoded data removed]",
      "text/plain": [
       "<Figure size 1080x576 with 4 Axes>"
      ]
     },
     "metadata": {
      "needs_background": "light"
     },
     "output_type": "display_data"
    }
   ],
   "source": [
    "# This produces our four regression plots for total_unemployed\n",
    "\n",
    "fig = plt.figure(figsize=(15,8))\n",
    "\n",
    "# pass in the model as the first parameter, then specify the \n",
    "# predictor variable we want to analyze\n",
    "fig = sm.graphics.plot_regress_exog(covid_model, \"New_Cases\", fig=fig)"
   ]
  },
  {
   "cell_type": "markdown",
   "metadata": {},
   "source": [
    "#### 1. The “Y and Fitted vs. X” graph plots the dependent variable against our predicted values with a confidence interval. The inverse relationship in our graph indicates that hospitalization and new cases are positively correlated, i.e., when one variable increases the other increases\n",
    "\n",
    "#### 2. The “Residuals versus New Cases” graph shows our model's errors versus the specified predictor variable. Each dot is an observed value; the line represents the mean of those observed values. Since there's no pattern in the distance between the dots and the mean value, the OLS assumption of homoskedasticity holds. Homoskedasticity assumption that assumes that different samples have the same variance, even if they came from different population.\n",
    "\n",
    "#### 3. The “Partial regression plot” shows the relationship between hospitalizations and new cases, taking into account the impact of adding other independent variables on our existing new cases coefficient. We'll see later how this same graph changes when we add more variables.\n",
    "\n",
    "#### 4. The Component and Component Plus Residual (CCPR) plot is an extension of the partial regression plot, but shows where our trend line would lie after adding the impact of adding our other independent variables on our existing new cases coefficient."
   ]
  },
  {
   "cell_type": "code",
   "execution_count": 36,
   "metadata": {},
   "outputs": [
    {
     "data": {
      "image/png": "[encoded data removed]",
      "text/plain": [
       "<Figure size 720x504 with 1 Axes>"
      ]
     },
     "metadata": {
      "needs_background": "light"
     },
     "output_type": "display_data"
    }
   ],
   "source": [
    "# predictor variable (x) and dependent variable (y)\n",
    "x = covid[['New_Cases']]\n",
    "y = covid[['Hospitalization']]\n",
    "\n",
    "# Retrieve our confidence interval values\n",
    "# _ is a dummy variable since we don't actually use it for plotting but need it as a placeholder\n",
    "# since wls_prediction_std(housing_model) returns 3 values\n",
    "_, confidence_interval_lower, confidence_interval_upper = wls_prediction_std(covid_model)\n",
    "\n",
    "fig, ax = plt.subplots(figsize=(10,7))\n",
    "\n",
    "# plot the dots\n",
    "# 'o' specifies the shape (circle), we can also use 'd' (diamonds), 's' (squares)\n",
    "ax.plot(x, y, 'o', label=\"data\")\n",
    "\n",
    "# plot the trend line\n",
    "# g-- and r-- specify the color to use\n",
    "ax.plot(x, covid_model.fittedvalues, 'g--.', label=\"OLS\")\n",
    "\n",
    "# plot upper and lower ci values\n",
    "ax.plot(x, confidence_interval_upper, 'r--')\n",
    "ax.plot(x, confidence_interval_lower, 'r--')\n",
    "\n",
    "# plot legend\n",
    "ax.legend(loc='best');"
   ]
  },
  {
   "cell_type": "markdown",
   "metadata": {},
   "source": [
    "#### This graph plots our trend line (green), the observations (dots), and our confidence interval (red)"
   ]
  }
 ],
 "metadata": {
  "kernelspec": {
   "display_name": "Python 3",
   "language": "python",
   "name": "python3"
  },
  "language_info": {
   "codemirror_mode": {
    "name": "ipython",
    "version": 3
   },
   "file_extension": ".py",
   "mimetype": "text/x-python",
   "name": "python",
   "nbconvert_exporter": "python",
   "pygments_lexer": "ipython3",
   "version": "3.7.3"
  }
 },
 "nbformat": 4,
 "nbformat_minor": 2
}
