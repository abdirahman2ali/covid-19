{
 "cells": [
  {
   "cell_type": "code",
   "execution_count": 2,
   "metadata": {},
   "outputs": [],
   "source": [
    "import pandas as pd\n",
    "import numpy as np\n",
    "import urllib.request # to request URLs and get the HTML from it\n",
    "import requests\n",
    "import string\n",
    "import matplotlib.pyplot as plt\n",
    "import schedule\n",
    "import time\n",
    "import plotly.express as px\n",
    "from sklearn import linear_model\n",
    "import statsmodels.api as sm"
   ]
  },
  {
   "cell_type": "code",
   "execution_count": 3,
   "metadata": {},
   "outputs": [
    {
     "data": {
      "text/html": [
       "<div>\n",
       "<style scoped>\n",
       "    .dataframe tbody tr th:only-of-type {\n",
       "        vertical-align: middle;\n",
       "    }\n",
       "\n",
       "    .dataframe tbody tr th {\n",
       "        vertical-align: top;\n",
       "    }\n",
       "\n",
       "    .dataframe thead th {\n",
       "        text-align: right;\n",
       "    }\n",
       "</style>\n",
       "<table border=\"1\" class=\"dataframe\">\n",
       "  <thead>\n",
       "    <tr style=\"text-align: right;\">\n",
       "      <th></th>\n",
       "      <th>Reported Date</th>\n",
       "      <th>Confirmed Negative</th>\n",
       "      <th>Presumptive Negative</th>\n",
       "      <th>Presumptive Positive</th>\n",
       "      <th>Confirmed Positive</th>\n",
       "      <th>Resolved</th>\n",
       "      <th>Deaths</th>\n",
       "      <th>Total Cases</th>\n",
       "      <th>Total patients approved for testing as of Reporting Date</th>\n",
       "      <th>Total tests completed in the last day</th>\n",
       "      <th>Percent positive tests in last day</th>\n",
       "      <th>Under Investigation</th>\n",
       "      <th>Number of patients hospitalized with COVID-19</th>\n",
       "      <th>Number of patients in ICU with COVID-19</th>\n",
       "      <th>Number of patients in ICU on a ventilator with COVID-19</th>\n",
       "      <th>Total Positive LTC Resident Cases</th>\n",
       "      <th>Total Positive LTC HCW Cases</th>\n",
       "      <th>Total LTC Resident Deaths</th>\n",
       "      <th>Total LTC HCW Deaths</th>\n",
       "    </tr>\n",
       "  </thead>\n",
       "  <tbody>\n",
       "    <tr>\n",
       "      <th>0</th>\n",
       "      <td>01/26/2020</td>\n",
       "      <td>NaN</td>\n",
       "      <td>NaN</td>\n",
       "      <td>1.0</td>\n",
       "      <td>NaN</td>\n",
       "      <td>NaN</td>\n",
       "      <td>NaN</td>\n",
       "      <td>NaN</td>\n",
       "      <td>NaN</td>\n",
       "      <td>NaN</td>\n",
       "      <td>NaN</td>\n",
       "      <td>9.0</td>\n",
       "      <td>NaN</td>\n",
       "      <td>NaN</td>\n",
       "      <td>NaN</td>\n",
       "      <td>NaN</td>\n",
       "      <td>NaN</td>\n",
       "      <td>NaN</td>\n",
       "      <td>NaN</td>\n",
       "    </tr>\n",
       "    <tr>\n",
       "      <th>1</th>\n",
       "      <td>01/27/2020</td>\n",
       "      <td>NaN</td>\n",
       "      <td>NaN</td>\n",
       "      <td>2.0</td>\n",
       "      <td>NaN</td>\n",
       "      <td>NaN</td>\n",
       "      <td>NaN</td>\n",
       "      <td>NaN</td>\n",
       "      <td>NaN</td>\n",
       "      <td>NaN</td>\n",
       "      <td>NaN</td>\n",
       "      <td>19.0</td>\n",
       "      <td>NaN</td>\n",
       "      <td>NaN</td>\n",
       "      <td>NaN</td>\n",
       "      <td>NaN</td>\n",
       "      <td>NaN</td>\n",
       "      <td>NaN</td>\n",
       "      <td>NaN</td>\n",
       "    </tr>\n",
       "    <tr>\n",
       "      <th>2</th>\n",
       "      <td>01/28/2020</td>\n",
       "      <td>NaN</td>\n",
       "      <td>NaN</td>\n",
       "      <td>1.0</td>\n",
       "      <td>1.0</td>\n",
       "      <td>NaN</td>\n",
       "      <td>NaN</td>\n",
       "      <td>1.0</td>\n",
       "      <td>NaN</td>\n",
       "      <td>NaN</td>\n",
       "      <td>NaN</td>\n",
       "      <td>11.0</td>\n",
       "      <td>NaN</td>\n",
       "      <td>NaN</td>\n",
       "      <td>NaN</td>\n",
       "      <td>NaN</td>\n",
       "      <td>NaN</td>\n",
       "      <td>NaN</td>\n",
       "      <td>NaN</td>\n",
       "    </tr>\n",
       "    <tr>\n",
       "      <th>3</th>\n",
       "      <td>01/30/2020</td>\n",
       "      <td>NaN</td>\n",
       "      <td>NaN</td>\n",
       "      <td>0.0</td>\n",
       "      <td>2.0</td>\n",
       "      <td>NaN</td>\n",
       "      <td>NaN</td>\n",
       "      <td>2.0</td>\n",
       "      <td>NaN</td>\n",
       "      <td>NaN</td>\n",
       "      <td>NaN</td>\n",
       "      <td>27.0</td>\n",
       "      <td>NaN</td>\n",
       "      <td>NaN</td>\n",
       "      <td>NaN</td>\n",
       "      <td>NaN</td>\n",
       "      <td>NaN</td>\n",
       "      <td>NaN</td>\n",
       "      <td>NaN</td>\n",
       "    </tr>\n",
       "    <tr>\n",
       "      <th>4</th>\n",
       "      <td>01/31/2020</td>\n",
       "      <td>NaN</td>\n",
       "      <td>NaN</td>\n",
       "      <td>0.0</td>\n",
       "      <td>2.0</td>\n",
       "      <td>NaN</td>\n",
       "      <td>NaN</td>\n",
       "      <td>2.0</td>\n",
       "      <td>NaN</td>\n",
       "      <td>NaN</td>\n",
       "      <td>NaN</td>\n",
       "      <td>17.0</td>\n",
       "      <td>NaN</td>\n",
       "      <td>NaN</td>\n",
       "      <td>NaN</td>\n",
       "      <td>NaN</td>\n",
       "      <td>NaN</td>\n",
       "      <td>NaN</td>\n",
       "      <td>NaN</td>\n",
       "    </tr>\n",
       "  </tbody>\n",
       "</table>\n",
       "</div>"
      ],
      "text/plain": [
       "  Reported Date  Confirmed Negative  Presumptive Negative  \\\n",
       "0    01/26/2020                 NaN                   NaN   \n",
       "1    01/27/2020                 NaN                   NaN   \n",
       "2    01/28/2020                 NaN                   NaN   \n",
       "3    01/30/2020                 NaN                   NaN   \n",
       "4    01/31/2020                 NaN                   NaN   \n",
       "\n",
       "   Presumptive Positive  Confirmed Positive  Resolved  Deaths  Total Cases  \\\n",
       "0                   1.0                 NaN       NaN     NaN          NaN   \n",
       "1                   2.0                 NaN       NaN     NaN          NaN   \n",
       "2                   1.0                 1.0       NaN     NaN          1.0   \n",
       "3                   0.0                 2.0       NaN     NaN          2.0   \n",
       "4                   0.0                 2.0       NaN     NaN          2.0   \n",
       "\n",
       "   Total patients approved for testing as of Reporting Date  \\\n",
       "0                                                NaN          \n",
       "1                                                NaN          \n",
       "2                                                NaN          \n",
       "3                                                NaN          \n",
       "4                                                NaN          \n",
       "\n",
       "   Total tests completed in the last day  Percent positive tests in last day  \\\n",
       "0                                    NaN                                 NaN   \n",
       "1                                    NaN                                 NaN   \n",
       "2                                    NaN                                 NaN   \n",
       "3                                    NaN                                 NaN   \n",
       "4                                    NaN                                 NaN   \n",
       "\n",
       "   Under Investigation  Number of patients hospitalized with COVID-19  \\\n",
       "0                  9.0                                            NaN   \n",
       "1                 19.0                                            NaN   \n",
       "2                 11.0                                            NaN   \n",
       "3                 27.0                                            NaN   \n",
       "4                 17.0                                            NaN   \n",
       "\n",
       "   Number of patients in ICU with COVID-19  \\\n",
       "0                                      NaN   \n",
       "1                                      NaN   \n",
       "2                                      NaN   \n",
       "3                                      NaN   \n",
       "4                                      NaN   \n",
       "\n",
       "   Number of patients in ICU on a ventilator with COVID-19  \\\n",
       "0                                                NaN         \n",
       "1                                                NaN         \n",
       "2                                                NaN         \n",
       "3                                                NaN         \n",
       "4                                                NaN         \n",
       "\n",
       "   Total Positive LTC Resident Cases  Total Positive LTC HCW Cases  \\\n",
       "0                                NaN                           NaN   \n",
       "1                                NaN                           NaN   \n",
       "2                                NaN                           NaN   \n",
       "3                                NaN                           NaN   \n",
       "4                                NaN                           NaN   \n",
       "\n",
       "   Total LTC Resident Deaths  Total LTC HCW Deaths  \n",
       "0                        NaN                   NaN  \n",
       "1                        NaN                   NaN  \n",
       "2                        NaN                   NaN  \n",
       "3                        NaN                   NaN  \n",
       "4                        NaN                   NaN  "
      ]
     },
     "execution_count": 3,
     "metadata": {},
     "output_type": "execute_result"
    }
   ],
   "source": [
    "data = pd.read_csv('https://data.ontario.ca/dataset/f4f86e54-872d-43f8-8a86-3892fd3cb5e6/resource/ed270bb8-340b-41f9-a7c6-e8ef587e6d11/download/covidtestin')\n",
    "\n",
    "data.head()"
   ]
  },
  {
   "cell_type": "code",
   "execution_count": 4,
   "metadata": {},
   "outputs": [
    {
     "data": {
      "text/plain": [
       "Index(['Reported Date', 'Confirmed Negative', 'Presumptive Negative',\n",
       "       'Presumptive Positive', 'Confirmed Positive', 'Resolved', 'Deaths',\n",
       "       'Total Cases',\n",
       "       'Total patients approved for testing as of Reporting Date',\n",
       "       'Total tests completed in the last day',\n",
       "       'Percent positive tests in last day', 'Under Investigation',\n",
       "       'Number of patients hospitalized with COVID-19',\n",
       "       'Number of patients in ICU with COVID-19',\n",
       "       'Number of patients in ICU on a ventilator with COVID-19',\n",
       "       'Total Positive LTC Resident Cases', 'Total Positive LTC HCW Cases',\n",
       "       'Total LTC Resident Deaths', 'Total LTC HCW Deaths'],\n",
       "      dtype='object')"
      ]
     },
     "execution_count": 4,
     "metadata": {},
     "output_type": "execute_result"
    }
   ],
   "source": [
    "# Check columns\n",
    "data.columns"
   ]
  },
  {
   "cell_type": "code",
   "execution_count": 5,
   "metadata": {},
   "outputs": [
    {
     "data": {
      "text/plain": [
       "Reported Date                                                object\n",
       "Confirmed Negative                                          float64\n",
       "Presumptive Negative                                        float64\n",
       "Presumptive Positive                                        float64\n",
       "Confirmed Positive                                          float64\n",
       "Resolved                                                    float64\n",
       "Deaths                                                      float64\n",
       "Total Cases                                                 float64\n",
       "Total patients approved for testing as of Reporting Date    float64\n",
       "Total tests completed in the last day                       float64\n",
       "Percent positive tests in last day                          float64\n",
       "Under Investigation                                         float64\n",
       "Number of patients hospitalized with COVID-19               float64\n",
       "Number of patients in ICU with COVID-19                     float64\n",
       "Number of patients in ICU on a ventilator with COVID-19     float64\n",
       "Total Positive LTC Resident Cases                           float64\n",
       "Total Positive LTC HCW Cases                                float64\n",
       "Total LTC Resident Deaths                                   float64\n",
       "Total LTC HCW Deaths                                        float64\n",
       "dtype: object"
      ]
     },
     "execution_count": 5,
     "metadata": {},
     "output_type": "execute_result"
    }
   ],
   "source": [
    "# Check data types\n",
    "data.dtypes"
   ]
  },
  {
   "cell_type": "code",
   "execution_count": 6,
   "metadata": {},
   "outputs": [],
   "source": [
    "# convert the 'Date' column to datetime format \n",
    "data['Reported Date']= pd.to_datetime(data['Reported Date']) "
   ]
  },
  {
   "cell_type": "code",
   "execution_count": 7,
   "metadata": {},
   "outputs": [
    {
     "data": {
      "text/plain": [
       "Reported Date                                                 0\n",
       "Confirmed Negative                                          278\n",
       "Presumptive Negative                                        313\n",
       "Presumptive Positive                                        300\n",
       "Confirmed Positive                                            2\n",
       "Resolved                                                     12\n",
       "Deaths                                                       40\n",
       "Total Cases                                                   2\n",
       "Total patients approved for testing as of Reporting Date      8\n",
       "Total tests completed in the last day                        71\n",
       "Percent positive tests in last day                           75\n",
       "Under Investigation                                           2\n",
       "Number of patients hospitalized with COVID-19                56\n",
       "Number of patients in ICU with COVID-19                      56\n",
       "Number of patients in ICU on a ventilator with COVID-19      56\n",
       "Total Positive LTC Resident Cases                           105\n",
       "Total Positive LTC HCW Cases                                110\n",
       "Total LTC Resident Deaths                                   103\n",
       "Total LTC HCW Deaths                                        103\n",
       "dtype: int64"
      ]
     },
     "execution_count": 7,
     "metadata": {},
     "output_type": "execute_result"
    }
   ],
   "source": [
    "# Check numm values\n",
    "data.isnull().sum()"
   ]
  },
  {
   "cell_type": "code",
   "execution_count": 8,
   "metadata": {},
   "outputs": [
    {
     "data": {
      "text/html": [
       "<div>\n",
       "<style scoped>\n",
       "    .dataframe tbody tr th:only-of-type {\n",
       "        vertical-align: middle;\n",
       "    }\n",
       "\n",
       "    .dataframe tbody tr th {\n",
       "        vertical-align: top;\n",
       "    }\n",
       "\n",
       "    .dataframe thead th {\n",
       "        text-align: right;\n",
       "    }\n",
       "</style>\n",
       "<table border=\"1\" class=\"dataframe\">\n",
       "  <thead>\n",
       "    <tr style=\"text-align: right;\">\n",
       "      <th></th>\n",
       "      <th>Reported Date</th>\n",
       "      <th>Confirmed Negative</th>\n",
       "      <th>Presumptive Negative</th>\n",
       "      <th>Presumptive Positive</th>\n",
       "      <th>Confirmed Positive</th>\n",
       "      <th>Resolved</th>\n",
       "      <th>Deaths</th>\n",
       "      <th>Total Cases</th>\n",
       "      <th>Total patients approved for testing as of Reporting Date</th>\n",
       "      <th>Total tests completed in the last day</th>\n",
       "      <th>Percent positive tests in last day</th>\n",
       "      <th>Under Investigation</th>\n",
       "      <th>Number of patients hospitalized with COVID-19</th>\n",
       "      <th>Number of patients in ICU with COVID-19</th>\n",
       "      <th>Number of patients in ICU on a ventilator with COVID-19</th>\n",
       "      <th>Total Positive LTC Resident Cases</th>\n",
       "      <th>Total Positive LTC HCW Cases</th>\n",
       "      <th>Total LTC Resident Deaths</th>\n",
       "      <th>Total LTC HCW Deaths</th>\n",
       "    </tr>\n",
       "  </thead>\n",
       "  <tbody>\n",
       "    <tr>\n",
       "      <th>0</th>\n",
       "      <td>2020-01-26</td>\n",
       "      <td>0.0</td>\n",
       "      <td>0.0</td>\n",
       "      <td>1.0</td>\n",
       "      <td>0.0</td>\n",
       "      <td>0.0</td>\n",
       "      <td>0.0</td>\n",
       "      <td>0.0</td>\n",
       "      <td>0.0</td>\n",
       "      <td>0.0</td>\n",
       "      <td>0.0</td>\n",
       "      <td>9.0</td>\n",
       "      <td>0.0</td>\n",
       "      <td>0.0</td>\n",
       "      <td>0.0</td>\n",
       "      <td>0.0</td>\n",
       "      <td>0.0</td>\n",
       "      <td>0.0</td>\n",
       "      <td>0.0</td>\n",
       "    </tr>\n",
       "    <tr>\n",
       "      <th>1</th>\n",
       "      <td>2020-01-27</td>\n",
       "      <td>0.0</td>\n",
       "      <td>0.0</td>\n",
       "      <td>2.0</td>\n",
       "      <td>0.0</td>\n",
       "      <td>0.0</td>\n",
       "      <td>0.0</td>\n",
       "      <td>0.0</td>\n",
       "      <td>0.0</td>\n",
       "      <td>0.0</td>\n",
       "      <td>0.0</td>\n",
       "      <td>19.0</td>\n",
       "      <td>0.0</td>\n",
       "      <td>0.0</td>\n",
       "      <td>0.0</td>\n",
       "      <td>0.0</td>\n",
       "      <td>0.0</td>\n",
       "      <td>0.0</td>\n",
       "      <td>0.0</td>\n",
       "    </tr>\n",
       "    <tr>\n",
       "      <th>2</th>\n",
       "      <td>2020-01-28</td>\n",
       "      <td>0.0</td>\n",
       "      <td>0.0</td>\n",
       "      <td>1.0</td>\n",
       "      <td>1.0</td>\n",
       "      <td>0.0</td>\n",
       "      <td>0.0</td>\n",
       "      <td>1.0</td>\n",
       "      <td>0.0</td>\n",
       "      <td>0.0</td>\n",
       "      <td>0.0</td>\n",
       "      <td>11.0</td>\n",
       "      <td>0.0</td>\n",
       "      <td>0.0</td>\n",
       "      <td>0.0</td>\n",
       "      <td>0.0</td>\n",
       "      <td>0.0</td>\n",
       "      <td>0.0</td>\n",
       "      <td>0.0</td>\n",
       "    </tr>\n",
       "    <tr>\n",
       "      <th>3</th>\n",
       "      <td>2020-01-30</td>\n",
       "      <td>0.0</td>\n",
       "      <td>0.0</td>\n",
       "      <td>0.0</td>\n",
       "      <td>2.0</td>\n",
       "      <td>0.0</td>\n",
       "      <td>0.0</td>\n",
       "      <td>2.0</td>\n",
       "      <td>0.0</td>\n",
       "      <td>0.0</td>\n",
       "      <td>0.0</td>\n",
       "      <td>27.0</td>\n",
       "      <td>0.0</td>\n",
       "      <td>0.0</td>\n",
       "      <td>0.0</td>\n",
       "      <td>0.0</td>\n",
       "      <td>0.0</td>\n",
       "      <td>0.0</td>\n",
       "      <td>0.0</td>\n",
       "    </tr>\n",
       "    <tr>\n",
       "      <th>4</th>\n",
       "      <td>2020-01-31</td>\n",
       "      <td>0.0</td>\n",
       "      <td>0.0</td>\n",
       "      <td>0.0</td>\n",
       "      <td>2.0</td>\n",
       "      <td>0.0</td>\n",
       "      <td>0.0</td>\n",
       "      <td>2.0</td>\n",
       "      <td>0.0</td>\n",
       "      <td>0.0</td>\n",
       "      <td>0.0</td>\n",
       "      <td>17.0</td>\n",
       "      <td>0.0</td>\n",
       "      <td>0.0</td>\n",
       "      <td>0.0</td>\n",
       "      <td>0.0</td>\n",
       "      <td>0.0</td>\n",
       "      <td>0.0</td>\n",
       "      <td>0.0</td>\n",
       "    </tr>\n",
       "  </tbody>\n",
       "</table>\n",
       "</div>"
      ],
      "text/plain": [
       "  Reported Date  Confirmed Negative  Presumptive Negative  \\\n",
       "0    2020-01-26                 0.0                   0.0   \n",
       "1    2020-01-27                 0.0                   0.0   \n",
       "2    2020-01-28                 0.0                   0.0   \n",
       "3    2020-01-30                 0.0                   0.0   \n",
       "4    2020-01-31                 0.0                   0.0   \n",
       "\n",
       "   Presumptive Positive  Confirmed Positive  Resolved  Deaths  Total Cases  \\\n",
       "0                   1.0                 0.0       0.0     0.0          0.0   \n",
       "1                   2.0                 0.0       0.0     0.0          0.0   \n",
       "2                   1.0                 1.0       0.0     0.0          1.0   \n",
       "3                   0.0                 2.0       0.0     0.0          2.0   \n",
       "4                   0.0                 2.0       0.0     0.0          2.0   \n",
       "\n",
       "   Total patients approved for testing as of Reporting Date  \\\n",
       "0                                                0.0          \n",
       "1                                                0.0          \n",
       "2                                                0.0          \n",
       "3                                                0.0          \n",
       "4                                                0.0          \n",
       "\n",
       "   Total tests completed in the last day  Percent positive tests in last day  \\\n",
       "0                                    0.0                                 0.0   \n",
       "1                                    0.0                                 0.0   \n",
       "2                                    0.0                                 0.0   \n",
       "3                                    0.0                                 0.0   \n",
       "4                                    0.0                                 0.0   \n",
       "\n",
       "   Under Investigation  Number of patients hospitalized with COVID-19  \\\n",
       "0                  9.0                                            0.0   \n",
       "1                 19.0                                            0.0   \n",
       "2                 11.0                                            0.0   \n",
       "3                 27.0                                            0.0   \n",
       "4                 17.0                                            0.0   \n",
       "\n",
       "   Number of patients in ICU with COVID-19  \\\n",
       "0                                      0.0   \n",
       "1                                      0.0   \n",
       "2                                      0.0   \n",
       "3                                      0.0   \n",
       "4                                      0.0   \n",
       "\n",
       "   Number of patients in ICU on a ventilator with COVID-19  \\\n",
       "0                                                0.0         \n",
       "1                                                0.0         \n",
       "2                                                0.0         \n",
       "3                                                0.0         \n",
       "4                                                0.0         \n",
       "\n",
       "   Total Positive LTC Resident Cases  Total Positive LTC HCW Cases  \\\n",
       "0                                0.0                           0.0   \n",
       "1                                0.0                           0.0   \n",
       "2                                0.0                           0.0   \n",
       "3                                0.0                           0.0   \n",
       "4                                0.0                           0.0   \n",
       "\n",
       "   Total LTC Resident Deaths  Total LTC HCW Deaths  \n",
       "0                        0.0                   0.0  \n",
       "1                        0.0                   0.0  \n",
       "2                        0.0                   0.0  \n",
       "3                        0.0                   0.0  \n",
       "4                        0.0                   0.0  "
      ]
     },
     "execution_count": 8,
     "metadata": {},
     "output_type": "execute_result"
    }
   ],
   "source": [
    "data = data.fillna(0)\n",
    "data.head()"
   ]
  },
  {
   "cell_type": "code",
   "execution_count": 9,
   "metadata": {},
   "outputs": [],
   "source": [
    "data = data.rename(columns={'Confirmed Positive': 'Positive Cases', 'Number of patients hospitalized with COVID-19':'Hospitalization', 'Number of patients in ICU with COVID-19':'Enter ICU', 'Number of patients in ICU on a ventilator with COVID-19':'ICU on ventilator', 'Total tests completed in the last day':'Total tests completed'})"
   ]
  },
  {
   "cell_type": "code",
   "execution_count": 10,
   "metadata": {},
   "outputs": [
    {
     "data": {
      "text/html": [
       "<div>\n",
       "<style scoped>\n",
       "    .dataframe tbody tr th:only-of-type {\n",
       "        vertical-align: middle;\n",
       "    }\n",
       "\n",
       "    .dataframe tbody tr th {\n",
       "        vertical-align: top;\n",
       "    }\n",
       "\n",
       "    .dataframe thead th {\n",
       "        text-align: right;\n",
       "    }\n",
       "</style>\n",
       "<table border=\"1\" class=\"dataframe\">\n",
       "  <thead>\n",
       "    <tr style=\"text-align: right;\">\n",
       "      <th></th>\n",
       "      <th>Reported Date</th>\n",
       "      <th>Positive Cases</th>\n",
       "      <th>Total Cases</th>\n",
       "      <th>Deaths</th>\n",
       "      <th>Hospitalization</th>\n",
       "      <th>Enter ICU</th>\n",
       "      <th>ICU on ventilator</th>\n",
       "      <th>Total tests completed</th>\n",
       "    </tr>\n",
       "  </thead>\n",
       "  <tbody>\n",
       "    <tr>\n",
       "      <th>0</th>\n",
       "      <td>2020-01-26</td>\n",
       "      <td>0.0</td>\n",
       "      <td>0.0</td>\n",
       "      <td>0.0</td>\n",
       "      <td>0.0</td>\n",
       "      <td>0.0</td>\n",
       "      <td>0.0</td>\n",
       "      <td>0.0</td>\n",
       "    </tr>\n",
       "    <tr>\n",
       "      <th>1</th>\n",
       "      <td>2020-01-27</td>\n",
       "      <td>0.0</td>\n",
       "      <td>0.0</td>\n",
       "      <td>0.0</td>\n",
       "      <td>0.0</td>\n",
       "      <td>0.0</td>\n",
       "      <td>0.0</td>\n",
       "      <td>0.0</td>\n",
       "    </tr>\n",
       "    <tr>\n",
       "      <th>2</th>\n",
       "      <td>2020-01-28</td>\n",
       "      <td>1.0</td>\n",
       "      <td>1.0</td>\n",
       "      <td>0.0</td>\n",
       "      <td>0.0</td>\n",
       "      <td>0.0</td>\n",
       "      <td>0.0</td>\n",
       "      <td>0.0</td>\n",
       "    </tr>\n",
       "    <tr>\n",
       "      <th>3</th>\n",
       "      <td>2020-01-30</td>\n",
       "      <td>2.0</td>\n",
       "      <td>2.0</td>\n",
       "      <td>0.0</td>\n",
       "      <td>0.0</td>\n",
       "      <td>0.0</td>\n",
       "      <td>0.0</td>\n",
       "      <td>0.0</td>\n",
       "    </tr>\n",
       "    <tr>\n",
       "      <th>4</th>\n",
       "      <td>2020-01-31</td>\n",
       "      <td>2.0</td>\n",
       "      <td>2.0</td>\n",
       "      <td>0.0</td>\n",
       "      <td>0.0</td>\n",
       "      <td>0.0</td>\n",
       "      <td>0.0</td>\n",
       "      <td>0.0</td>\n",
       "    </tr>\n",
       "  </tbody>\n",
       "</table>\n",
       "</div>"
      ],
      "text/plain": [
       "  Reported Date  Positive Cases  Total Cases  Deaths  Hospitalization  \\\n",
       "0    2020-01-26             0.0          0.0     0.0              0.0   \n",
       "1    2020-01-27             0.0          0.0     0.0              0.0   \n",
       "2    2020-01-28             1.0          1.0     0.0              0.0   \n",
       "3    2020-01-30             2.0          2.0     0.0              0.0   \n",
       "4    2020-01-31             2.0          2.0     0.0              0.0   \n",
       "\n",
       "   Enter ICU  ICU on ventilator  Total tests completed  \n",
       "0        0.0                0.0                    0.0  \n",
       "1        0.0                0.0                    0.0  \n",
       "2        0.0                0.0                    0.0  \n",
       "3        0.0                0.0                    0.0  \n",
       "4        0.0                0.0                    0.0  "
      ]
     },
     "execution_count": 10,
     "metadata": {},
     "output_type": "execute_result"
    }
   ],
   "source": [
    "new_data = data[['Reported Date', 'Positive Cases', 'Total Cases', 'Deaths','Hospitalization', 'Enter ICU', 'ICU on ventilator', 'Total tests completed']]\n",
    "new_data.head()"
   ]
  },
  {
   "cell_type": "code",
   "execution_count": 11,
   "metadata": {},
   "outputs": [
    {
     "name": "stderr",
     "output_type": "stream",
     "text": [
      "/Users/abdirahmanali/.pyenv/versions/3.7.3/lib/python3.7/site-packages/ipykernel_launcher.py:2: SettingWithCopyWarning: \n",
      "A value is trying to be set on a copy of a slice from a DataFrame.\n",
      "Try using .loc[row_indexer,col_indexer] = value instead\n",
      "\n",
      "See the caveats in the documentation: https://pandas.pydata.org/pandas-docs/stable/user_guide/indexing.html#returning-a-view-versus-a-copy\n",
      "  \n",
      "/Users/abdirahmanali/.pyenv/versions/3.7.3/lib/python3.7/site-packages/ipykernel_launcher.py:3: SettingWithCopyWarning: \n",
      "A value is trying to be set on a copy of a slice from a DataFrame.\n",
      "Try using .loc[row_indexer,col_indexer] = value instead\n",
      "\n",
      "See the caveats in the documentation: https://pandas.pydata.org/pandas-docs/stable/user_guide/indexing.html#returning-a-view-versus-a-copy\n",
      "  This is separate from the ipykernel package so we can avoid doing imports until\n",
      "/Users/abdirahmanali/.pyenv/versions/3.7.3/lib/python3.7/site-packages/ipykernel_launcher.py:4: SettingWithCopyWarning: \n",
      "A value is trying to be set on a copy of a slice from a DataFrame.\n",
      "Try using .loc[row_indexer,col_indexer] = value instead\n",
      "\n",
      "See the caveats in the documentation: https://pandas.pydata.org/pandas-docs/stable/user_guide/indexing.html#returning-a-view-versus-a-copy\n",
      "  after removing the cwd from sys.path.\n",
      "/Users/abdirahmanali/.pyenv/versions/3.7.3/lib/python3.7/site-packages/ipykernel_launcher.py:5: SettingWithCopyWarning: \n",
      "A value is trying to be set on a copy of a slice from a DataFrame.\n",
      "Try using .loc[row_indexer,col_indexer] = value instead\n",
      "\n",
      "See the caveats in the documentation: https://pandas.pydata.org/pandas-docs/stable/user_guide/indexing.html#returning-a-view-versus-a-copy\n",
      "  \"\"\"\n",
      "/Users/abdirahmanali/.pyenv/versions/3.7.3/lib/python3.7/site-packages/ipykernel_launcher.py:6: SettingWithCopyWarning: \n",
      "A value is trying to be set on a copy of a slice from a DataFrame.\n",
      "Try using .loc[row_indexer,col_indexer] = value instead\n",
      "\n",
      "See the caveats in the documentation: https://pandas.pydata.org/pandas-docs/stable/user_guide/indexing.html#returning-a-view-versus-a-copy\n",
      "  \n",
      "/Users/abdirahmanali/.pyenv/versions/3.7.3/lib/python3.7/site-packages/ipykernel_launcher.py:7: SettingWithCopyWarning: \n",
      "A value is trying to be set on a copy of a slice from a DataFrame.\n",
      "Try using .loc[row_indexer,col_indexer] = value instead\n",
      "\n",
      "See the caveats in the documentation: https://pandas.pydata.org/pandas-docs/stable/user_guide/indexing.html#returning-a-view-versus-a-copy\n",
      "  import sys\n"
     ]
    }
   ],
   "source": [
    "#Import calculations\n",
    "new_data['New Cases'] = new_data['Total Cases'].diff()\n",
    "new_data['New Patients Hospitalized']=new_data['Hospitalization'].diff()\n",
    "new_data['New Patients in ICU'] = new_data['Enter ICU'].diff()\n",
    "new_data['New Patients on ventilator'] = new_data['ICU on ventilator'].diff()\n",
    "new_data['New Deaths'] = new_data['Deaths'].diff()\n",
    "new_data['Positivity Rate'] = new_data['Positive Cases']/new_data['Total tests completed']*100"
   ]
  },
  {
   "cell_type": "code",
   "execution_count": 12,
   "metadata": {},
   "outputs": [],
   "source": [
    "#Replace infinite and NAN with 0\n",
    "new_data = new_data.replace([np.inf, -np.inf], np.nan)\n",
    "new_data = new_data.fillna(0)"
   ]
  },
  {
   "cell_type": "code",
   "execution_count": 13,
   "metadata": {},
   "outputs": [
    {
     "data": {
      "text/html": [
       "<div>\n",
       "<style scoped>\n",
       "    .dataframe tbody tr th:only-of-type {\n",
       "        vertical-align: middle;\n",
       "    }\n",
       "\n",
       "    .dataframe tbody tr th {\n",
       "        vertical-align: top;\n",
       "    }\n",
       "\n",
       "    .dataframe thead th {\n",
       "        text-align: right;\n",
       "    }\n",
       "</style>\n",
       "<table border=\"1\" class=\"dataframe\">\n",
       "  <thead>\n",
       "    <tr style=\"text-align: right;\">\n",
       "      <th></th>\n",
       "      <th>Reported Date</th>\n",
       "      <th>New Cases</th>\n",
       "      <th>New Patients Hospitalized</th>\n",
       "      <th>New Patients in ICU</th>\n",
       "      <th>New Patients on ventilator</th>\n",
       "      <th>New Deaths</th>\n",
       "      <th>Positivity Rate</th>\n",
       "    </tr>\n",
       "  </thead>\n",
       "  <tbody>\n",
       "    <tr>\n",
       "      <th>320</th>\n",
       "      <td>2020-12-22</td>\n",
       "      <td>2202.0</td>\n",
       "      <td>90.0</td>\n",
       "      <td>8.0</td>\n",
       "      <td>20.0</td>\n",
       "      <td>21.0</td>\n",
       "      <td>42.637800</td>\n",
       "    </tr>\n",
       "    <tr>\n",
       "      <th>321</th>\n",
       "      <td>2020-12-23</td>\n",
       "      <td>2408.0</td>\n",
       "      <td>-3.0</td>\n",
       "      <td>2.0</td>\n",
       "      <td>14.0</td>\n",
       "      <td>41.0</td>\n",
       "      <td>34.281680</td>\n",
       "    </tr>\n",
       "    <tr>\n",
       "      <th>322</th>\n",
       "      <td>2020-12-24</td>\n",
       "      <td>2447.0</td>\n",
       "      <td>-35.0</td>\n",
       "      <td>2.0</td>\n",
       "      <td>-10.0</td>\n",
       "      <td>49.0</td>\n",
       "      <td>30.667885</td>\n",
       "    </tr>\n",
       "    <tr>\n",
       "      <th>323</th>\n",
       "      <td>2020-12-25</td>\n",
       "      <td>2159.0</td>\n",
       "      <td>31.0</td>\n",
       "      <td>3.0</td>\n",
       "      <td>-20.0</td>\n",
       "      <td>43.0</td>\n",
       "      <td>0.000000</td>\n",
       "    </tr>\n",
       "    <tr>\n",
       "      <th>324</th>\n",
       "      <td>2020-12-26</td>\n",
       "      <td>2142.0</td>\n",
       "      <td>-243.0</td>\n",
       "      <td>6.0</td>\n",
       "      <td>31.0</td>\n",
       "      <td>38.0</td>\n",
       "      <td>0.000000</td>\n",
       "    </tr>\n",
       "  </tbody>\n",
       "</table>\n",
       "</div>"
      ],
      "text/plain": [
       "    Reported Date  New Cases  New Patients Hospitalized  New Patients in ICU  \\\n",
       "320    2020-12-22     2202.0                       90.0                  8.0   \n",
       "321    2020-12-23     2408.0                       -3.0                  2.0   \n",
       "322    2020-12-24     2447.0                      -35.0                  2.0   \n",
       "323    2020-12-25     2159.0                       31.0                  3.0   \n",
       "324    2020-12-26     2142.0                     -243.0                  6.0   \n",
       "\n",
       "     New Patients on ventilator  New Deaths  Positivity Rate  \n",
       "320                        20.0        21.0        42.637800  \n",
       "321                        14.0        41.0        34.281680  \n",
       "322                       -10.0        49.0        30.667885  \n",
       "323                       -20.0        43.0         0.000000  \n",
       "324                        31.0        38.0         0.000000  "
      ]
     },
     "execution_count": 13,
     "metadata": {},
     "output_type": "execute_result"
    }
   ],
   "source": [
    "#Create new dataframe of important information\n",
    "data_new = new_data[['Reported Date','New Cases', 'New Patients Hospitalized','New Patients in ICU', 'New Patients on ventilator', 'New Deaths','Positivity Rate']]\n",
    "data_new.tail()"
   ]
  },
  {
   "cell_type": "code",
   "execution_count": 14,
   "metadata": {},
   "outputs": [
    {
     "data": {
      "text/html": [
       "<div>\n",
       "<style scoped>\n",
       "    .dataframe tbody tr th:only-of-type {\n",
       "        vertical-align: middle;\n",
       "    }\n",
       "\n",
       "    .dataframe tbody tr th {\n",
       "        vertical-align: top;\n",
       "    }\n",
       "\n",
       "    .dataframe thead th {\n",
       "        text-align: right;\n",
       "    }\n",
       "</style>\n",
       "<table border=\"1\" class=\"dataframe\">\n",
       "  <thead>\n",
       "    <tr style=\"text-align: right;\">\n",
       "      <th></th>\n",
       "      <th>New Cases</th>\n",
       "      <th>New Patients Hospitalized</th>\n",
       "      <th>New Patients in ICU</th>\n",
       "      <th>New Patients on ventilator</th>\n",
       "      <th>New Deaths</th>\n",
       "      <th>Positivity Rate</th>\n",
       "    </tr>\n",
       "    <tr>\n",
       "      <th>Reported Date</th>\n",
       "      <th></th>\n",
       "      <th></th>\n",
       "      <th></th>\n",
       "      <th></th>\n",
       "      <th></th>\n",
       "      <th></th>\n",
       "    </tr>\n",
       "  </thead>\n",
       "  <tbody>\n",
       "    <tr>\n",
       "      <th>2020-12-22</th>\n",
       "      <td>2202.0</td>\n",
       "      <td>90.0</td>\n",
       "      <td>8.0</td>\n",
       "      <td>20.0</td>\n",
       "      <td>21.0</td>\n",
       "      <td>42.637800</td>\n",
       "    </tr>\n",
       "    <tr>\n",
       "      <th>2020-12-23</th>\n",
       "      <td>2408.0</td>\n",
       "      <td>-3.0</td>\n",
       "      <td>2.0</td>\n",
       "      <td>14.0</td>\n",
       "      <td>41.0</td>\n",
       "      <td>34.281680</td>\n",
       "    </tr>\n",
       "    <tr>\n",
       "      <th>2020-12-24</th>\n",
       "      <td>2447.0</td>\n",
       "      <td>-35.0</td>\n",
       "      <td>2.0</td>\n",
       "      <td>-10.0</td>\n",
       "      <td>49.0</td>\n",
       "      <td>30.667885</td>\n",
       "    </tr>\n",
       "    <tr>\n",
       "      <th>2020-12-25</th>\n",
       "      <td>2159.0</td>\n",
       "      <td>31.0</td>\n",
       "      <td>3.0</td>\n",
       "      <td>-20.0</td>\n",
       "      <td>43.0</td>\n",
       "      <td>0.000000</td>\n",
       "    </tr>\n",
       "    <tr>\n",
       "      <th>2020-12-26</th>\n",
       "      <td>2142.0</td>\n",
       "      <td>-243.0</td>\n",
       "      <td>6.0</td>\n",
       "      <td>31.0</td>\n",
       "      <td>38.0</td>\n",
       "      <td>0.000000</td>\n",
       "    </tr>\n",
       "  </tbody>\n",
       "</table>\n",
       "</div>"
      ],
      "text/plain": [
       "               New Cases  New Patients Hospitalized  New Patients in ICU  \\\n",
       "Reported Date                                                              \n",
       "2020-12-22        2202.0                       90.0                  8.0   \n",
       "2020-12-23        2408.0                       -3.0                  2.0   \n",
       "2020-12-24        2447.0                      -35.0                  2.0   \n",
       "2020-12-25        2159.0                       31.0                  3.0   \n",
       "2020-12-26        2142.0                     -243.0                  6.0   \n",
       "\n",
       "               New Patients on ventilator  New Deaths  Positivity Rate  \n",
       "Reported Date                                                           \n",
       "2020-12-22                           20.0        21.0        42.637800  \n",
       "2020-12-23                           14.0        41.0        34.281680  \n",
       "2020-12-24                          -10.0        49.0        30.667885  \n",
       "2020-12-25                          -20.0        43.0         0.000000  \n",
       "2020-12-26                           31.0        38.0         0.000000  "
      ]
     },
     "execution_count": 14,
     "metadata": {},
     "output_type": "execute_result"
    }
   ],
   "source": [
    "dataa = data_new\n",
    "dataa = dataa.set_index('Reported Date')\n",
    "dataa.tail()"
   ]
  },
  {
   "cell_type": "code",
   "execution_count": 15,
   "metadata": {},
   "outputs": [
    {
     "data": {
      "text/html": [
       "<div>\n",
       "<style scoped>\n",
       "    .dataframe tbody tr th:only-of-type {\n",
       "        vertical-align: middle;\n",
       "    }\n",
       "\n",
       "    .dataframe tbody tr th {\n",
       "        vertical-align: top;\n",
       "    }\n",
       "\n",
       "    .dataframe thead th {\n",
       "        text-align: right;\n",
       "    }\n",
       "</style>\n",
       "<table border=\"1\" class=\"dataframe\">\n",
       "  <thead>\n",
       "    <tr style=\"text-align: right;\">\n",
       "      <th></th>\n",
       "      <th>New Cases</th>\n",
       "      <th>New Patients Hospitalized</th>\n",
       "      <th>New Patients in ICU</th>\n",
       "      <th>New Patients on ventilator</th>\n",
       "      <th>New Deaths</th>\n",
       "      <th>Positivity Rate</th>\n",
       "    </tr>\n",
       "    <tr>\n",
       "      <th>Reported Date</th>\n",
       "      <th></th>\n",
       "      <th></th>\n",
       "      <th></th>\n",
       "      <th></th>\n",
       "      <th></th>\n",
       "      <th></th>\n",
       "    </tr>\n",
       "  </thead>\n",
       "  <tbody>\n",
       "    <tr>\n",
       "      <th>2020-12-22</th>\n",
       "      <td>2202.0</td>\n",
       "      <td>90.0</td>\n",
       "      <td>8.0</td>\n",
       "      <td>20.0</td>\n",
       "      <td>21.0</td>\n",
       "      <td>42.637800</td>\n",
       "    </tr>\n",
       "    <tr>\n",
       "      <th>2020-12-23</th>\n",
       "      <td>2408.0</td>\n",
       "      <td>0.0</td>\n",
       "      <td>2.0</td>\n",
       "      <td>14.0</td>\n",
       "      <td>41.0</td>\n",
       "      <td>34.281680</td>\n",
       "    </tr>\n",
       "    <tr>\n",
       "      <th>2020-12-24</th>\n",
       "      <td>2447.0</td>\n",
       "      <td>0.0</td>\n",
       "      <td>2.0</td>\n",
       "      <td>0.0</td>\n",
       "      <td>49.0</td>\n",
       "      <td>30.667885</td>\n",
       "    </tr>\n",
       "    <tr>\n",
       "      <th>2020-12-25</th>\n",
       "      <td>2159.0</td>\n",
       "      <td>31.0</td>\n",
       "      <td>3.0</td>\n",
       "      <td>0.0</td>\n",
       "      <td>43.0</td>\n",
       "      <td>0.000000</td>\n",
       "    </tr>\n",
       "    <tr>\n",
       "      <th>2020-12-26</th>\n",
       "      <td>2142.0</td>\n",
       "      <td>0.0</td>\n",
       "      <td>6.0</td>\n",
       "      <td>31.0</td>\n",
       "      <td>38.0</td>\n",
       "      <td>0.000000</td>\n",
       "    </tr>\n",
       "  </tbody>\n",
       "</table>\n",
       "</div>"
      ],
      "text/plain": [
       "               New Cases  New Patients Hospitalized  New Patients in ICU  \\\n",
       "Reported Date                                                              \n",
       "2020-12-22        2202.0                       90.0                  8.0   \n",
       "2020-12-23        2408.0                        0.0                  2.0   \n",
       "2020-12-24        2447.0                        0.0                  2.0   \n",
       "2020-12-25        2159.0                       31.0                  3.0   \n",
       "2020-12-26        2142.0                        0.0                  6.0   \n",
       "\n",
       "               New Patients on ventilator  New Deaths  Positivity Rate  \n",
       "Reported Date                                                           \n",
       "2020-12-22                           20.0        21.0        42.637800  \n",
       "2020-12-23                           14.0        41.0        34.281680  \n",
       "2020-12-24                            0.0        49.0        30.667885  \n",
       "2020-12-25                            0.0        43.0         0.000000  \n",
       "2020-12-26                           31.0        38.0         0.000000  "
      ]
     },
     "execution_count": 15,
     "metadata": {},
     "output_type": "execute_result"
    }
   ],
   "source": [
    "#Replace negative values with 0\n",
    "dataa[dataa < 0] = 0\n",
    "dataa.tail()"
   ]
  },
  {
   "cell_type": "code",
   "execution_count": 16,
   "metadata": {},
   "outputs": [
    {
     "data": {
      "text/plain": [
       "Text(0.5, 1.0, 'Daily New Cases')"
      ]
     },
     "execution_count": 16,
     "metadata": {},
     "output_type": "execute_result"
    },
    {
     "data": {
      "text/plain": [
       "<Figure size 432x288 with 0 Axes>"
      ]
     },
     "metadata": {},
     "output_type": "display_data"
    },
    {
     "data": {
      "image/png": "[encoded data removed]",
      "text/plain": [
       "<Figure size 432x288 with 1 Axes>"
      ]
     },
     "metadata": {
      "needs_background": "light"
     },
     "output_type": "display_data"
    }
   ],
   "source": [
    "# plotting the daily new cases\n",
    "fig = plt.figure()  # initiate the figure environment\n",
    "dataa.plot(y='New Cases',color='green', linewidth=2, marker='o', legend=True)\n",
    "plt.ylabel('New Cases')\n",
    "# Make sure you change the title of the figure accordingly. \n",
    "plt.title('Daily New Cases')"
   ]
  },
  {
   "cell_type": "code",
   "execution_count": 17,
   "metadata": {},
   "outputs": [
    {
     "data": {
      "text/plain": [
       "Text(0.5, 1.0, 'New Patients Hospitalized')"
      ]
     },
     "execution_count": 17,
     "metadata": {},
     "output_type": "execute_result"
    },
    {
     "data": {
      "text/plain": [
       "<Figure size 432x288 with 0 Axes>"
      ]
     },
     "metadata": {},
     "output_type": "display_data"
    },
    {
     "data": {
      "image/png": "[encoded data removed]",
      "text/plain": [
       "<Figure size 432x288 with 1 Axes>"
      ]
     },
     "metadata": {
      "needs_background": "light"
     },
     "output_type": "display_data"
    }
   ],
   "source": [
    "# plotting the daily new patients hospitalization\n",
    "fig = plt.figure()  # initiate the figure environment\n",
    "dataa.plot(y='New Patients Hospitalized',color='blue', linewidth=2, marker='o', legend=True)\n",
    "plt.ylabel('New Patients Hospitalized')\n",
    "# Make sure you change the title of the figure accordingly. \n",
    "plt.title('New Patients Hospitalized')"
   ]
  },
  {
   "cell_type": "code",
   "execution_count": 18,
   "metadata": {},
   "outputs": [
    {
     "data": {
      "text/plain": [
       "Text(0.5, 1.0, 'New Patients in ICU')"
      ]
     },
     "execution_count": 18,
     "metadata": {},
     "output_type": "execute_result"
    },
    {
     "data": {
      "text/plain": [
       "<Figure size 432x288 with 0 Axes>"
      ]
     },
     "metadata": {},
     "output_type": "display_data"
    },
    {
     "data": {
      "image/png": "[encoded data removed]",
      "text/plain": [
       "<Figure size 432x288 with 1 Axes>"
      ]
     },
     "metadata": {
      "needs_background": "light"
     },
     "output_type": "display_data"
    }
   ],
   "source": [
    "# plotting the daily new patients in ICU\n",
    "fig = plt.figure()  # initiate the figure environment\n",
    "dataa.plot(y='New Patients in ICU',color='orange', linewidth=2, marker='o', legend=True)\n",
    "plt.ylabel('New Patients in ICU')\n",
    "# Make sure you change the title of the figure accordingly. \n",
    "plt.title('New Patients in ICU')"
   ]
  },
  {
   "cell_type": "code",
   "execution_count": 19,
   "metadata": {},
   "outputs": [
    {
     "data": {
      "text/plain": [
       "Text(0.5, 1.0, 'New Patients in ICU')"
      ]
     },
     "execution_count": 19,
     "metadata": {},
     "output_type": "execute_result"
    },
    {
     "data": {
      "text/plain": [
       "<Figure size 432x288 with 0 Axes>"
      ]
     },
     "metadata": {},
     "output_type": "display_data"
    },
    {
     "data": {
      "image/png": "[encoded data removed]",
      "text/plain": [
       "<Figure size 432x288 with 1 Axes>"
      ]
     },
     "metadata": {
      "needs_background": "light"
     },
     "output_type": "display_data"
    }
   ],
   "source": [
    "# plotting the daily new patients on ventialtor\n",
    "fig = plt.figure()  # initiate the figure environment\n",
    "dataa.plot(y='New Patients in ICU',color='purple', linewidth=2, marker='o', legend=True)\n",
    "plt.ylabel('New Patients in ICU')\n",
    "# Make sure you change the title of the figure accordingly. \n",
    "plt.title('New Patients in ICU')"
   ]
  },
  {
   "cell_type": "code",
   "execution_count": 20,
   "metadata": {},
   "outputs": [
    {
     "data": {
      "text/plain": [
       "Text(0.5, 1.0, 'New Deaths')"
      ]
     },
     "execution_count": 20,
     "metadata": {},
     "output_type": "execute_result"
    },
    {
     "data": {
      "text/plain": [
       "<Figure size 432x288 with 0 Axes>"
      ]
     },
     "metadata": {},
     "output_type": "display_data"
    },
    {
     "data": {
      "image/png": "[encoded data removed]",
      "text/plain": [
       "<Figure size 432x288 with 1 Axes>"
      ]
     },
     "metadata": {
      "needs_background": "light"
     },
     "output_type": "display_data"
    }
   ],
   "source": [
    "# plotting the daily new deaths\n",
    "fig = plt.figure()  # initiate the figure environment\n",
    "dataa.plot(y='New Deaths',color='red', linewidth=2, marker='o', legend=True)\n",
    "plt.ylabel('New Deaths')\n",
    "# Make sure you change the title of the figure accordingly. \n",
    "plt.title('New Deaths')"
   ]
  },
  {
   "cell_type": "code",
   "execution_count": 21,
   "metadata": {},
   "outputs": [
    {
     "data": {
      "text/plain": [
       "Text(0.5, 1.0, 'Positivity Rate')"
      ]
     },
     "execution_count": 21,
     "metadata": {},
     "output_type": "execute_result"
    },
    {
     "data": {
      "text/plain": [
       "<Figure size 432x288 with 0 Axes>"
      ]
     },
     "metadata": {},
     "output_type": "display_data"
    },
    {
     "data": {
      "image/png": "[encoded data removed]",
      "text/plain": [
       "<Figure size 432x288 with 1 Axes>"
      ]
     },
     "metadata": {
      "needs_background": "light"
     },
     "output_type": "display_data"
    }
   ],
   "source": [
    "# plotting the daily new patients on ventialtor\n",
    "fig = plt.figure()  # initiate the figure environment\n",
    "dataa.plot(y='Positivity Rate',color='black', linewidth=2, marker='o', legend=True)\n",
    "plt.ylabel('Positivity Rate')\n",
    "# Make sure you change the title of the figure accordingly. \n",
    "plt.title('Positivity Rate')"
   ]
  },
  {
   "cell_type": "markdown",
   "metadata": {},
   "source": [
    "## Create a time series data that takes the average of each week"
   ]
  },
  {
   "cell_type": "code",
   "execution_count": 22,
   "metadata": {},
   "outputs": [
    {
     "data": {
      "text/html": [
       "<div>\n",
       "<style scoped>\n",
       "    .dataframe tbody tr th:only-of-type {\n",
       "        vertical-align: middle;\n",
       "    }\n",
       "\n",
       "    .dataframe tbody tr th {\n",
       "        vertical-align: top;\n",
       "    }\n",
       "\n",
       "    .dataframe thead th {\n",
       "        text-align: right;\n",
       "    }\n",
       "</style>\n",
       "<table border=\"1\" class=\"dataframe\">\n",
       "  <thead>\n",
       "    <tr style=\"text-align: right;\">\n",
       "      <th></th>\n",
       "      <th>Reported Date</th>\n",
       "      <th>New Cases</th>\n",
       "      <th>New Patients Hospitalized</th>\n",
       "      <th>New Patients in ICU</th>\n",
       "      <th>New Patients on ventilator</th>\n",
       "      <th>New Deaths</th>\n",
       "      <th>Positivity Rate</th>\n",
       "    </tr>\n",
       "  </thead>\n",
       "  <tbody>\n",
       "    <tr>\n",
       "      <th>320</th>\n",
       "      <td>2020-12-22</td>\n",
       "      <td>2202.0</td>\n",
       "      <td>90.0</td>\n",
       "      <td>8.0</td>\n",
       "      <td>20.0</td>\n",
       "      <td>21.0</td>\n",
       "      <td>42.637800</td>\n",
       "    </tr>\n",
       "    <tr>\n",
       "      <th>321</th>\n",
       "      <td>2020-12-23</td>\n",
       "      <td>2408.0</td>\n",
       "      <td>-3.0</td>\n",
       "      <td>2.0</td>\n",
       "      <td>14.0</td>\n",
       "      <td>41.0</td>\n",
       "      <td>34.281680</td>\n",
       "    </tr>\n",
       "    <tr>\n",
       "      <th>322</th>\n",
       "      <td>2020-12-24</td>\n",
       "      <td>2447.0</td>\n",
       "      <td>-35.0</td>\n",
       "      <td>2.0</td>\n",
       "      <td>-10.0</td>\n",
       "      <td>49.0</td>\n",
       "      <td>30.667885</td>\n",
       "    </tr>\n",
       "    <tr>\n",
       "      <th>323</th>\n",
       "      <td>2020-12-25</td>\n",
       "      <td>2159.0</td>\n",
       "      <td>31.0</td>\n",
       "      <td>3.0</td>\n",
       "      <td>-20.0</td>\n",
       "      <td>43.0</td>\n",
       "      <td>0.000000</td>\n",
       "    </tr>\n",
       "    <tr>\n",
       "      <th>324</th>\n",
       "      <td>2020-12-26</td>\n",
       "      <td>2142.0</td>\n",
       "      <td>-243.0</td>\n",
       "      <td>6.0</td>\n",
       "      <td>31.0</td>\n",
       "      <td>38.0</td>\n",
       "      <td>0.000000</td>\n",
       "    </tr>\n",
       "  </tbody>\n",
       "</table>\n",
       "</div>"
      ],
      "text/plain": [
       "    Reported Date  New Cases  New Patients Hospitalized  New Patients in ICU  \\\n",
       "320    2020-12-22     2202.0                       90.0                  8.0   \n",
       "321    2020-12-23     2408.0                       -3.0                  2.0   \n",
       "322    2020-12-24     2447.0                      -35.0                  2.0   \n",
       "323    2020-12-25     2159.0                       31.0                  3.0   \n",
       "324    2020-12-26     2142.0                     -243.0                  6.0   \n",
       "\n",
       "     New Patients on ventilator  New Deaths  Positivity Rate  \n",
       "320                        20.0        21.0        42.637800  \n",
       "321                        14.0        41.0        34.281680  \n",
       "322                       -10.0        49.0        30.667885  \n",
       "323                       -20.0        43.0         0.000000  \n",
       "324                        31.0        38.0         0.000000  "
      ]
     },
     "execution_count": 22,
     "metadata": {},
     "output_type": "execute_result"
    }
   ],
   "source": [
    "#Create new dataframe\n",
    "new_dataa = data_new\n",
    "new_dataa.tail()"
   ]
  },
  {
   "cell_type": "code",
   "execution_count": 23,
   "metadata": {},
   "outputs": [
    {
     "name": "stderr",
     "output_type": "stream",
     "text": [
      "/Users/abdirahmanali/.pyenv/versions/3.7.3/lib/python3.7/site-packages/ipykernel_launcher.py:3: SettingWithCopyWarning: \n",
      "A value is trying to be set on a copy of a slice from a DataFrame.\n",
      "Try using .loc[row_indexer,col_indexer] = value instead\n",
      "\n",
      "See the caveats in the documentation: https://pandas.pydata.org/pandas-docs/stable/user_guide/indexing.html#returning-a-view-versus-a-copy\n",
      "  This is separate from the ipykernel package so we can avoid doing imports until\n"
     ]
    },
    {
     "data": {
      "text/html": [
       "<div>\n",
       "<style scoped>\n",
       "    .dataframe tbody tr th:only-of-type {\n",
       "        vertical-align: middle;\n",
       "    }\n",
       "\n",
       "    .dataframe tbody tr th {\n",
       "        vertical-align: top;\n",
       "    }\n",
       "\n",
       "    .dataframe thead th {\n",
       "        text-align: right;\n",
       "    }\n",
       "</style>\n",
       "<table border=\"1\" class=\"dataframe\">\n",
       "  <thead>\n",
       "    <tr style=\"text-align: right;\">\n",
       "      <th></th>\n",
       "      <th>Reported Date</th>\n",
       "      <th>New Cases</th>\n",
       "      <th>New Patients Hospitalized</th>\n",
       "      <th>New Patients in ICU</th>\n",
       "      <th>New Patients on ventilator</th>\n",
       "      <th>New Deaths</th>\n",
       "      <th>Positivity Rate</th>\n",
       "      <th>Reported Week</th>\n",
       "    </tr>\n",
       "  </thead>\n",
       "  <tbody>\n",
       "    <tr>\n",
       "      <th>0</th>\n",
       "      <td>2020-01-26</td>\n",
       "      <td>0.0</td>\n",
       "      <td>0.0</td>\n",
       "      <td>0.0</td>\n",
       "      <td>0.0</td>\n",
       "      <td>0.0</td>\n",
       "      <td>0.0</td>\n",
       "      <td>2020-02-02</td>\n",
       "    </tr>\n",
       "    <tr>\n",
       "      <th>1</th>\n",
       "      <td>2020-01-27</td>\n",
       "      <td>0.0</td>\n",
       "      <td>0.0</td>\n",
       "      <td>0.0</td>\n",
       "      <td>0.0</td>\n",
       "      <td>0.0</td>\n",
       "      <td>0.0</td>\n",
       "      <td>2020-02-02</td>\n",
       "    </tr>\n",
       "    <tr>\n",
       "      <th>2</th>\n",
       "      <td>2020-01-28</td>\n",
       "      <td>1.0</td>\n",
       "      <td>0.0</td>\n",
       "      <td>0.0</td>\n",
       "      <td>0.0</td>\n",
       "      <td>0.0</td>\n",
       "      <td>0.0</td>\n",
       "      <td>2020-02-02</td>\n",
       "    </tr>\n",
       "    <tr>\n",
       "      <th>3</th>\n",
       "      <td>2020-01-30</td>\n",
       "      <td>1.0</td>\n",
       "      <td>0.0</td>\n",
       "      <td>0.0</td>\n",
       "      <td>0.0</td>\n",
       "      <td>0.0</td>\n",
       "      <td>0.0</td>\n",
       "      <td>2020-02-02</td>\n",
       "    </tr>\n",
       "    <tr>\n",
       "      <th>4</th>\n",
       "      <td>2020-01-31</td>\n",
       "      <td>0.0</td>\n",
       "      <td>0.0</td>\n",
       "      <td>0.0</td>\n",
       "      <td>0.0</td>\n",
       "      <td>0.0</td>\n",
       "      <td>0.0</td>\n",
       "      <td>2020-02-02</td>\n",
       "    </tr>\n",
       "  </tbody>\n",
       "</table>\n",
       "</div>"
      ],
      "text/plain": [
       "  Reported Date  New Cases  New Patients Hospitalized  New Patients in ICU  \\\n",
       "0    2020-01-26        0.0                        0.0                  0.0   \n",
       "1    2020-01-27        0.0                        0.0                  0.0   \n",
       "2    2020-01-28        1.0                        0.0                  0.0   \n",
       "3    2020-01-30        1.0                        0.0                  0.0   \n",
       "4    2020-01-31        0.0                        0.0                  0.0   \n",
       "\n",
       "   New Patients on ventilator  New Deaths  Positivity Rate Reported Week  \n",
       "0                         0.0         0.0              0.0    2020-02-02  \n",
       "1                         0.0         0.0              0.0    2020-02-02  \n",
       "2                         0.0         0.0              0.0    2020-02-02  \n",
       "3                         0.0         0.0              0.0    2020-02-02  \n",
       "4                         0.0         0.0              0.0    2020-02-02  "
      ]
     },
     "execution_count": 23,
     "metadata": {},
     "output_type": "execute_result"
    }
   ],
   "source": [
    "#Create a column that has the end of week\n",
    "from pandas.tseries.offsets import *\n",
    "new_dataa['Reported Week'] = new_dataa['Reported Date'] + Week(weekday=6)\n",
    "new_dataa.head()"
   ]
  },
  {
   "cell_type": "code",
   "execution_count": 24,
   "metadata": {},
   "outputs": [],
   "source": [
    "#Find the averages per week\n",
    "#This gives us a better outlook on the week compated to daily shock increases\n",
    "\n",
    "data2 = new_dataa[['Reported Week','New Cases','New Patients Hospitalized','New Patients in ICU', 'New Patients on ventilator', 'New Deaths','Positivity Rate']]\n",
    "data2 = data2.set_index('Reported Week')"
   ]
  },
  {
   "cell_type": "code",
   "execution_count": 25,
   "metadata": {},
   "outputs": [
    {
     "data": {
      "text/html": [
       "<div>\n",
       "<style scoped>\n",
       "    .dataframe tbody tr th:only-of-type {\n",
       "        vertical-align: middle;\n",
       "    }\n",
       "\n",
       "    .dataframe tbody tr th {\n",
       "        vertical-align: top;\n",
       "    }\n",
       "\n",
       "    .dataframe thead th {\n",
       "        text-align: right;\n",
       "    }\n",
       "</style>\n",
       "<table border=\"1\" class=\"dataframe\">\n",
       "  <thead>\n",
       "    <tr style=\"text-align: right;\">\n",
       "      <th></th>\n",
       "      <th>New Cases</th>\n",
       "      <th>New Patients Hospitalized</th>\n",
       "      <th>New Patients in ICU</th>\n",
       "      <th>New Patients on ventilator</th>\n",
       "      <th>New Deaths</th>\n",
       "      <th>Positivity Rate</th>\n",
       "    </tr>\n",
       "    <tr>\n",
       "      <th>Reported Week</th>\n",
       "      <th></th>\n",
       "      <th></th>\n",
       "      <th></th>\n",
       "      <th></th>\n",
       "      <th></th>\n",
       "      <th></th>\n",
       "    </tr>\n",
       "  </thead>\n",
       "  <tbody>\n",
       "    <tr>\n",
       "      <th>2020-12-27</th>\n",
       "      <td>2202.0</td>\n",
       "      <td>90.0</td>\n",
       "      <td>8.0</td>\n",
       "      <td>20.0</td>\n",
       "      <td>21.0</td>\n",
       "      <td>42.637800</td>\n",
       "    </tr>\n",
       "    <tr>\n",
       "      <th>2020-12-27</th>\n",
       "      <td>2408.0</td>\n",
       "      <td>0.0</td>\n",
       "      <td>2.0</td>\n",
       "      <td>14.0</td>\n",
       "      <td>41.0</td>\n",
       "      <td>34.281680</td>\n",
       "    </tr>\n",
       "    <tr>\n",
       "      <th>2020-12-27</th>\n",
       "      <td>2447.0</td>\n",
       "      <td>0.0</td>\n",
       "      <td>2.0</td>\n",
       "      <td>0.0</td>\n",
       "      <td>49.0</td>\n",
       "      <td>30.667885</td>\n",
       "    </tr>\n",
       "    <tr>\n",
       "      <th>2020-12-27</th>\n",
       "      <td>2159.0</td>\n",
       "      <td>31.0</td>\n",
       "      <td>3.0</td>\n",
       "      <td>0.0</td>\n",
       "      <td>43.0</td>\n",
       "      <td>0.000000</td>\n",
       "    </tr>\n",
       "    <tr>\n",
       "      <th>2020-12-27</th>\n",
       "      <td>2142.0</td>\n",
       "      <td>0.0</td>\n",
       "      <td>6.0</td>\n",
       "      <td>31.0</td>\n",
       "      <td>38.0</td>\n",
       "      <td>0.000000</td>\n",
       "    </tr>\n",
       "  </tbody>\n",
       "</table>\n",
       "</div>"
      ],
      "text/plain": [
       "               New Cases  New Patients Hospitalized  New Patients in ICU  \\\n",
       "Reported Week                                                              \n",
       "2020-12-27        2202.0                       90.0                  8.0   \n",
       "2020-12-27        2408.0                        0.0                  2.0   \n",
       "2020-12-27        2447.0                        0.0                  2.0   \n",
       "2020-12-27        2159.0                       31.0                  3.0   \n",
       "2020-12-27        2142.0                        0.0                  6.0   \n",
       "\n",
       "               New Patients on ventilator  New Deaths  Positivity Rate  \n",
       "Reported Week                                                           \n",
       "2020-12-27                           20.0        21.0        42.637800  \n",
       "2020-12-27                           14.0        41.0        34.281680  \n",
       "2020-12-27                            0.0        49.0        30.667885  \n",
       "2020-12-27                            0.0        43.0         0.000000  \n",
       "2020-12-27                           31.0        38.0         0.000000  "
      ]
     },
     "execution_count": 25,
     "metadata": {},
     "output_type": "execute_result"
    }
   ],
   "source": [
    "#Replace negative values with 0\n",
    "data2[data2 < 0] = 0\n",
    "data2.tail()"
   ]
  },
  {
   "cell_type": "code",
   "execution_count": 26,
   "metadata": {},
   "outputs": [
    {
     "data": {
      "text/html": [
       "<div>\n",
       "<style scoped>\n",
       "    .dataframe tbody tr th:only-of-type {\n",
       "        vertical-align: middle;\n",
       "    }\n",
       "\n",
       "    .dataframe tbody tr th {\n",
       "        vertical-align: top;\n",
       "    }\n",
       "\n",
       "    .dataframe thead th {\n",
       "        text-align: right;\n",
       "    }\n",
       "</style>\n",
       "<table border=\"1\" class=\"dataframe\">\n",
       "  <thead>\n",
       "    <tr style=\"text-align: right;\">\n",
       "      <th></th>\n",
       "      <th>New Cases</th>\n",
       "      <th>New Patients Hospitalized</th>\n",
       "      <th>New Patients in ICU</th>\n",
       "      <th>New Patients on ventilator</th>\n",
       "      <th>New Deaths</th>\n",
       "      <th>Positivity Rate</th>\n",
       "    </tr>\n",
       "    <tr>\n",
       "      <th>Reported Week</th>\n",
       "      <th></th>\n",
       "      <th></th>\n",
       "      <th></th>\n",
       "      <th></th>\n",
       "      <th></th>\n",
       "      <th></th>\n",
       "    </tr>\n",
       "  </thead>\n",
       "  <tbody>\n",
       "    <tr>\n",
       "      <th>2020-11-29</th>\n",
       "      <td>1523.0</td>\n",
       "      <td>20.0</td>\n",
       "      <td>2.0</td>\n",
       "      <td>3.0</td>\n",
       "      <td>22.0</td>\n",
       "      <td>31.0</td>\n",
       "    </tr>\n",
       "    <tr>\n",
       "      <th>2020-12-06</th>\n",
       "      <td>1764.0</td>\n",
       "      <td>18.0</td>\n",
       "      <td>8.0</td>\n",
       "      <td>4.0</td>\n",
       "      <td>19.0</td>\n",
       "      <td>31.0</td>\n",
       "    </tr>\n",
       "    <tr>\n",
       "      <th>2020-12-13</th>\n",
       "      <td>1874.0</td>\n",
       "      <td>25.0</td>\n",
       "      <td>5.0</td>\n",
       "      <td>6.0</td>\n",
       "      <td>25.0</td>\n",
       "      <td>30.0</td>\n",
       "    </tr>\n",
       "    <tr>\n",
       "      <th>2020-12-20</th>\n",
       "      <td>2159.0</td>\n",
       "      <td>20.0</td>\n",
       "      <td>5.0</td>\n",
       "      <td>4.0</td>\n",
       "      <td>27.0</td>\n",
       "      <td>31.0</td>\n",
       "    </tr>\n",
       "    <tr>\n",
       "      <th>2020-12-27</th>\n",
       "      <td>2257.0</td>\n",
       "      <td>23.0</td>\n",
       "      <td>4.0</td>\n",
       "      <td>11.0</td>\n",
       "      <td>33.0</td>\n",
       "      <td>24.0</td>\n",
       "    </tr>\n",
       "  </tbody>\n",
       "</table>\n",
       "</div>"
      ],
      "text/plain": [
       "               New Cases  New Patients Hospitalized  New Patients in ICU  \\\n",
       "Reported Week                                                              \n",
       "2020-11-29        1523.0                       20.0                  2.0   \n",
       "2020-12-06        1764.0                       18.0                  8.0   \n",
       "2020-12-13        1874.0                       25.0                  5.0   \n",
       "2020-12-20        2159.0                       20.0                  5.0   \n",
       "2020-12-27        2257.0                       23.0                  4.0   \n",
       "\n",
       "               New Patients on ventilator  New Deaths  Positivity Rate  \n",
       "Reported Week                                                           \n",
       "2020-11-29                            3.0        22.0             31.0  \n",
       "2020-12-06                            4.0        19.0             31.0  \n",
       "2020-12-13                            6.0        25.0             30.0  \n",
       "2020-12-20                            4.0        27.0             31.0  \n",
       "2020-12-27                           11.0        33.0             24.0  "
      ]
     },
     "execution_count": 26,
     "metadata": {},
     "output_type": "execute_result"
    }
   ],
   "source": [
    "# Group by index and the average\n",
    "data2 = round(data2.groupby(['Reported Week']).mean(),0)\n",
    "data2.tail()"
   ]
  },
  {
   "cell_type": "code",
   "execution_count": 27,
   "metadata": {},
   "outputs": [
    {
     "data": {
      "text/plain": [
       "<matplotlib.lines.Line2D at 0x124a3f278>"
      ]
     },
     "execution_count": 27,
     "metadata": {},
     "output_type": "execute_result"
    },
    {
     "data": {
      "image/png": "[encoded data removed]",
      "text/plain": [
       "<Figure size 432x288 with 1 Axes>"
      ]
     },
     "metadata": {
      "needs_background": "light"
     },
     "output_type": "display_data"
    }
   ],
   "source": [
    "# plotting the average new cases per week around the time when cities moved to stage 1, 2 and 3\n",
    "fig = plt.figure()  # initiate the figure environment\n",
    "data2['New Cases'].plot(color='green', linewidth=2, marker='o', legend=True)\n",
    "plt.ylabel('New Cases')\n",
    "# Make sure you change the title of the figure accordingly. \n",
    "plt.title('7-Day Moving Average of New Cases')\n",
    "# This last line of code draws the vertical line in the plot when the last city moved to stage 1, 2 and 3\n",
    "plt.axvline(x='2020-05-19', color='k', linestyle='-.', alpha=.5, label='Stage 1')\n",
    "plt.axvline(x='2020-06-12', color='k', linestyle='-.', alpha=.5, label='Stage 2')\n",
    "plt.axvline(x='2020-07-29', color='k', linestyle='-.', alpha=.5, label='Stage 3')"
   ]
  },
  {
   "cell_type": "code",
   "execution_count": 28,
   "metadata": {},
   "outputs": [
    {
     "data": {
      "text/plain": [
       "<matplotlib.lines.Line2D at 0x124b39c88>"
      ]
     },
     "execution_count": 28,
     "metadata": {},
     "output_type": "execute_result"
    },
    {
     "data": {
      "image/png": "[encoded data removed]",
      "text/plain": [
       "<Figure size 432x288 with 1 Axes>"
      ]
     },
     "metadata": {
      "needs_background": "light"
     },
     "output_type": "display_data"
    }
   ],
   "source": [
    "# plotting the average hospitalizations per week around the time when cities moved to stage 1, 2 and 3\n",
    "fig = plt.figure()  # initiate the figure environment\n",
    "data2['New Patients Hospitalized'].plot(label='Hospitalizations',kind=\"line\", legend=True, linewidth=2, marker='o', color='blue')\n",
    "\n",
    "# Make sure you change the title of the figure accordingly. \n",
    "plt.title('7 Day Moving Average of New Hospitalization')\n",
    "\n",
    "# This last line of code draws the vertical line in the plot when the last city moved to stage 1, 2 and 3\n",
    "plt.axvline(x='2020-05-19', color='k', linestyle='-.', alpha=.5, label='Stage 1')\n",
    "plt.axvline(x='2020-06-12', color='k', linestyle='-.', alpha=.5, label='Stage 2')\n",
    "plt.axvline(x='2020-07-29', color='k', linestyle='-.', alpha=.5, label='Stage 3')"
   ]
  },
  {
   "cell_type": "code",
   "execution_count": 29,
   "metadata": {},
   "outputs": [
    {
     "data": {
      "text/plain": [
       "<matplotlib.lines.Line2D at 0x124b6e438>"
      ]
     },
     "execution_count": 29,
     "metadata": {},
     "output_type": "execute_result"
    },
    {
     "data": {
      "image/png": "[encoded data removed]",
      "text/plain": [
       "<Figure size 432x288 with 1 Axes>"
      ]
     },
     "metadata": {
      "needs_background": "light"
     },
     "output_type": "display_data"
    }
   ],
   "source": [
    "# plotting the average entering the ICU per week around the time when cities moved to stage 1, 2 and 3\n",
    "data2['New Patients in ICU'].plot(label='New Patients in ICU',kind=\"line\", legend=True, linewidth=2, marker='o', color='orange')\n",
    "\n",
    "# Make sure you change the title of the figure accordingly. \n",
    "plt.title('7 Day Moving Average for New Patients in ICU')\n",
    "\n",
    "# This last line of code draws the vertical line in the plot when the last city moved to stage 1, 2 and 3\n",
    "plt.axvline(x='2020-05-19', color='k', linestyle='-.', alpha=.5, label='Stage 2')\n",
    "plt.axvline(x='2020-06-12', color='k', linestyle='-.', alpha=.5, label='Stage 2')\n",
    "plt.axvline(x='2020-07-29', color='k', linestyle='-.', alpha=.5, label='Stage 3')"
   ]
  },
  {
   "cell_type": "code",
   "execution_count": 30,
   "metadata": {},
   "outputs": [
    {
     "data": {
      "text/plain": [
       "<matplotlib.lines.Line2D at 0x124cc2d30>"
      ]
     },
     "execution_count": 30,
     "metadata": {},
     "output_type": "execute_result"
    },
    {
     "data": {
      "image/png": "[encoded data removed]",
      "text/plain": [
       "<Figure size 432x288 with 1 Axes>"
      ]
     },
     "metadata": {
      "needs_background": "light"
     },
     "output_type": "display_data"
    }
   ],
   "source": [
    "# plotting the average who use a venitaltor in the ICU per week around the time when cities moved to stage 1, 2 and 3\n",
    "data2['New Patients on ventilator'].plot(label='New Patients on ventilator',kind=\"line\", legend=True, linewidth=2, marker='o', color='purple')\n",
    "\n",
    "# Make sure you change the title of the figure accordingly. \n",
    "plt.title('7 Day Moving Average New Patients on ventilator')\n",
    "\n",
    "# This last line of code draws the vertical line in the plot when the last city moved to stage 1, 2 and 3\n",
    "plt.axvline(x='2020-05-19', color='k', linestyle='-.', alpha=.5, label='Stage 2')\n",
    "plt.axvline(x='2020-06-12', color='k', linestyle='-.', alpha=.5, label='Stage 2')\n",
    "plt.axvline(x='2020-07-29', color='k', linestyle='-.', alpha=.5, label='Stage 3')"
   ]
  },
  {
   "cell_type": "code",
   "execution_count": 31,
   "metadata": {},
   "outputs": [
    {
     "data": {
      "text/plain": [
       "<matplotlib.lines.Line2D at 0x124d9def0>"
      ]
     },
     "execution_count": 31,
     "metadata": {},
     "output_type": "execute_result"
    },
    {
     "data": {
      "image/png": "[encoded data removed]",
      "text/plain": [
       "<Figure size 432x288 with 1 Axes>"
      ]
     },
     "metadata": {
      "needs_background": "light"
     },
     "output_type": "display_data"
    }
   ],
   "source": [
    "#plotting the average who use a venitaltor in the ICU per week around the time when cities moved to stage 1, 2 and 3\n",
    "data2['New Deaths'].plot(label='New Deaths',kind=\"line\", legend=True, linewidth=2, marker='o', color='red')\n",
    "\n",
    "# Make sure you change the title of the figure accordingly. \n",
    "plt.title('7 Day Moving Average New Deaths')\n",
    "\n",
    "# This last line of code draws the vertical line in the plot when the last city moved to stage 1, 2 and 3\n",
    "plt.axvline(x='2020-05-19', color='k', linestyle='-.', alpha=.5, label='Stage 2')\n",
    "plt.axvline(x='2020-06-12', color='k', linestyle='-.', alpha=.5, label='Stage 2')\n",
    "plt.axvline(x='2020-07-29', color='k', linestyle='-.', alpha=.5, label='Stage 3')"
   ]
  },
  {
   "cell_type": "code",
   "execution_count": 32,
   "metadata": {},
   "outputs": [
    {
     "data": {
      "text/plain": [
       "<matplotlib.lines.Line2D at 0x124e7fd68>"
      ]
     },
     "execution_count": 32,
     "metadata": {},
     "output_type": "execute_result"
    },
    {
     "data": {
      "image/png": "[encoded data removed]",
      "text/plain": [
       "<Figure size 432x288 with 1 Axes>"
      ]
     },
     "metadata": {
      "needs_background": "light"
     },
     "output_type": "display_data"
    }
   ],
   "source": [
    "# plotting the average who use a venitaltor in the ICU per week around the time when cities moved to stage 1, 2 and 3\n",
    "data2['Positivity Rate'].plot(label='Positivity Rate',kind=\"line\", legend=True, linewidth=2, marker='o', color='black')\n",
    "\n",
    "# Make sure you change the title of the figure accordingly. \n",
    "plt.title('7 Day Moving Average Positivity Rate')\n",
    "plt.ylabel('Positivity Rate %')\n",
    "\n",
    "# This last line of code draws the vertical line in the plot when the last city moved to stage 1, 2 and 3\n",
    "plt.axvline(x='2020-05-19', color='k', linestyle='-.', alpha=.5, label='Stage 2')\n",
    "plt.axvline(x='2020-06-12', color='k', linestyle='-.', alpha=.5, label='Stage 2')\n",
    "plt.axvline(x='2020-07-29', color='k', linestyle='-.', alpha=.5, label='Stage 3')"
   ]
  },
  {
   "cell_type": "markdown",
   "metadata": {},
   "source": [
    "### Regression Modelling\n",
    "\n",
    "#### Constructing a simple regression model that is setting hospitalization as a function of new cases. Therefore we are assuming that as new cases increase, patients admitted into hospitalization will increase."
   ]
  },
  {
   "cell_type": "code",
   "execution_count": 33,
   "metadata": {},
   "outputs": [],
   "source": [
    "import statsmodels.api as sm\n",
    "from statsmodels.formula.api import ols\n",
    "from statsmodels.sandbox.regression.predstd import wls_prediction_std"
   ]
  },
  {
   "cell_type": "code",
   "execution_count": 34,
   "metadata": {},
   "outputs": [],
   "source": [
    "covid = data2.rename(columns={'New Cases': 'New_Cases', 'New Patients Hospitalized':'Hospitalization', 'New Patients in ICU':'Enter_ICU', 'New Patients on ventilator':'Ventilator', 'New Deaths':'New_Deaths', 'Positivity Rate':'Positivity_Rate'})\n",
    "covid = covid.reset_index()"
   ]
  },
  {
   "cell_type": "code",
   "execution_count": 47,
   "metadata": {},
   "outputs": [
    {
     "name": "stdout",
     "output_type": "stream",
     "text": [
      "                                 OLS Regression Results                                \n",
      "=======================================================================================\n",
      "Dep. Variable:        Hospitalization   R-squared (uncentered):                   0.452\n",
      "Model:                            OLS   Adj. R-squared (uncentered):              0.440\n",
      "Method:                 Least Squares   F-statistic:                              38.70\n",
      "Date:                Sat, 26 Dec 2020   Prob (F-statistic):                    1.24e-07\n",
      "Time:                        18:26:34   Log-Likelihood:                         -183.61\n",
      "No. Observations:                  48   AIC:                                      369.2\n",
      "Df Residuals:                      47   BIC:                                      371.1\n",
      "Df Model:                           1                                                  \n",
      "Covariance Type:            nonrobust                                                  \n",
      "==============================================================================\n",
      "                 coef    std err          t      P>|t|      [0.025      0.975]\n",
      "------------------------------------------------------------------------------\n",
      "New_Cases      0.0130      0.002      6.221      0.000       0.009       0.017\n",
      "==============================================================================\n",
      "Omnibus:                       82.636   Durbin-Watson:                   1.259\n",
      "Prob(Omnibus):                  0.000   Jarque-Bera (JB):             1356.971\n",
      "Skew:                           4.584   Prob(JB):                    2.17e-295\n",
      "Kurtosis:                      27.381   Cond. No.                         1.00\n",
      "==============================================================================\n",
      "\n",
      "Notes:\n",
      "[1] R² is computed without centering (uncentered) since the model does not contain a constant.\n",
      "[2] Standard Errors assume that the covariance matrix of the errors is correctly specified.\n"
     ]
    }
   ],
   "source": [
    "# predictor variable (x) and dependent variable (y)\n",
    "x = covid[['New_Cases']]\n",
    "y = covid[['Hospitalization']]\n",
    "\n",
    "# with sklearn\n",
    "regr = linear_model.LinearRegression()\n",
    "regr.fit(x, y)\n",
    "\n",
    "model = sm.OLS(y, x).fit()\n",
    "predictions = model.predict(x)\n",
    "\n",
    "print_model = model.summary()\n",
    "print(print_model)"
   ]
  },
  {
   "cell_type": "markdown",
   "metadata": {},
   "source": [
    "#### Adj. R-squared indicates that ~45% of hospitalization can be explained by our predictor variable, new cases\n",
    "\n",
    "#### The regression coefficient (coef) represents the change in the dependent variable resulting from a one unit change in the predictor variable, all other variables being held constant. In our model, a one unit increase in new cases increases hospitalizations by 0.0130. This is in line with our initial assumption that as new cases increase, hospitalization increases.\n",
    "\n",
    "#### The standard error measures the accuracy of new cases coefficient by estimating the variation of the coefficient if the same test were run on a different sample of our population. Our standard error, 0.002, is low and therefore appears accurate.\n",
    "\n",
    "#### The p-value means the probability of an 0.002 increase in hospitalization is due to a one unit increase in new cases, which is at 0%. This is assuming that there is no relationship between the two variables. A low p-value indicates that the results are statistically significant, that is in general the p-value is less than 5%.\n",
    "\n",
    "#### The confidence interval is a range within which our coefficient is likely to fall. We can be 95% confident that new cases coefficient will be within our confidence interval, [0.009\t0.017]"
   ]
  },
  {
   "cell_type": "code",
   "execution_count": 48,
   "metadata": {
    "scrolled": true
   },
   "outputs": [
    {
     "data": {
      "image/png": "[encoded data removed]",
      "text/plain": [
       "<Figure size 1080x576 with 4 Axes>"
      ]
     },
     "metadata": {
      "needs_background": "light"
     },
     "output_type": "display_data"
    }
   ],
   "source": [
    "# This produces our four regression plots for New Cases\n",
    "\n",
    "fig = plt.figure(figsize=(15,8))\n",
    "\n",
    "# pass in the model as the first parameter, then specify the \n",
    "# predictor variable we want to analyze\n",
    "fig = sm.graphics.plot_regress_exog(model, \"New_Cases\", fig=fig)"
   ]
  },
  {
   "cell_type": "markdown",
   "metadata": {},
   "source": [
    "#### 1. The “Y and Fitted vs. X” graph plots the dependent variable against our predicted values with a confidence interval. The inverse relationship in our graph indicates that hospitalization and new cases are positively correlated, i.e., when one variable increases the other increases\n",
    "\n",
    "#### 2. The “Residuals versus New Cases” graph shows our model's errors versus the specified predictor variable. Each dot is an observed value; the line represents the mean of those observed values. Since there's no pattern in the distance between the dots and the mean value, the OLS assumption of homoskedasticity holds. Homoskedasticity assumption that assumes that different samples have the same variance, even if they came from different population.\n",
    "\n",
    "#### 3. The “Partial regression plot” shows the relationship between hospitalizations and new cases, taking into account the impact of adding other independent variables on our existing new cases coefficient. We'll see later how this same graph changes when we add more variables.\n",
    "\n",
    "#### 4. The Component and Component Plus Residual (CCPR) plot is an extension of the partial regression plot, but shows where our trend line would lie after adding the impact of adding our other independent variables on our existing new cases coefficient."
   ]
  },
  {
   "cell_type": "code",
   "execution_count": 56,
   "metadata": {
    "scrolled": true
   },
   "outputs": [
    {
     "data": {
      "text/plain": [
       "<matplotlib.legend.Legend at 0x124f8ca20>"
      ]
     },
     "execution_count": 56,
     "metadata": {},
     "output_type": "execute_result"
    },
    {
     "data": {
      "image/png": "[encoded data removed]",
      "text/plain": [
       "<Figure size 720x504 with 1 Axes>"
      ]
     },
     "metadata": {
      "needs_background": "light"
     },
     "output_type": "display_data"
    }
   ],
   "source": [
    "# Retrieve our confidence interval values\n",
    "# _ is a dummy variable since we don't actually use it for plotting but need it as a placeholder\n",
    "# since wls_prediction_std(housing_model) returns 3 values\n",
    "_, confidence_interval_lower, confidence_interval_upper = wls_prediction_std(model)\n",
    "\n",
    "fig, ax = plt.subplots(figsize=(10,7))\n",
    "\n",
    "# plot the dots\n",
    "# 'o' specifies the shape (circle), we can also use 'd' (diamonds), 's' (squares)\n",
    "ax.plot(x, y, 'o', label=\"data\")\n",
    "\n",
    "# plot the trend line\n",
    "# g-- and r-- specify the color to use\n",
    "ax.plot(x, model.fittedvalues, 'g--.', label=\"OLS\")\n",
    "\n",
    "# plot upper and lower ci values\n",
    "ax.plot(x, confidence_interval_upper, 'r--')\n",
    "ax.plot(x, confidence_interval_lower, 'r--')\n",
    "\n",
    "# plot legend\n",
    "ax.legend(loc='best')"
   ]
  },
  {
   "cell_type": "markdown",
   "metadata": {},
   "source": [
    "#### This graph plots our trend line (green), the observations (dots), and our confidence interval (red)"
   ]
  },
  {
   "cell_type": "markdown",
   "metadata": {},
   "source": [
    "### Multiple Regression Modelling\n",
    "\n",
    "#### Constructing a multiple regression model that is setting death as a function of new cases, hospitalizations, icu, and ventilators."
   ]
  },
  {
   "cell_type": "code",
   "execution_count": 38,
   "metadata": {},
   "outputs": [
    {
     "data": {
      "text/html": [
       "<div>\n",
       "<style scoped>\n",
       "    .dataframe tbody tr th:only-of-type {\n",
       "        vertical-align: middle;\n",
       "    }\n",
       "\n",
       "    .dataframe tbody tr th {\n",
       "        vertical-align: top;\n",
       "    }\n",
       "\n",
       "    .dataframe thead th {\n",
       "        text-align: right;\n",
       "    }\n",
       "</style>\n",
       "<table border=\"1\" class=\"dataframe\">\n",
       "  <thead>\n",
       "    <tr style=\"text-align: right;\">\n",
       "      <th></th>\n",
       "      <th>Reported Week</th>\n",
       "      <th>New_Cases</th>\n",
       "      <th>Hospitalization</th>\n",
       "      <th>Enter_ICU</th>\n",
       "      <th>Ventilator</th>\n",
       "      <th>New_Deaths</th>\n",
       "      <th>Positivity_Rate</th>\n",
       "    </tr>\n",
       "  </thead>\n",
       "  <tbody>\n",
       "    <tr>\n",
       "      <th>0</th>\n",
       "      <td>2020-02-02</td>\n",
       "      <td>0.0</td>\n",
       "      <td>0.0</td>\n",
       "      <td>0.0</td>\n",
       "      <td>0.0</td>\n",
       "      <td>0.0</td>\n",
       "      <td>0.0</td>\n",
       "    </tr>\n",
       "    <tr>\n",
       "      <th>1</th>\n",
       "      <td>2020-02-09</td>\n",
       "      <td>0.0</td>\n",
       "      <td>0.0</td>\n",
       "      <td>0.0</td>\n",
       "      <td>0.0</td>\n",
       "      <td>0.0</td>\n",
       "      <td>0.0</td>\n",
       "    </tr>\n",
       "    <tr>\n",
       "      <th>2</th>\n",
       "      <td>2020-02-16</td>\n",
       "      <td>0.0</td>\n",
       "      <td>0.0</td>\n",
       "      <td>0.0</td>\n",
       "      <td>0.0</td>\n",
       "      <td>0.0</td>\n",
       "      <td>0.0</td>\n",
       "    </tr>\n",
       "    <tr>\n",
       "      <th>3</th>\n",
       "      <td>2020-02-23</td>\n",
       "      <td>0.0</td>\n",
       "      <td>0.0</td>\n",
       "      <td>0.0</td>\n",
       "      <td>0.0</td>\n",
       "      <td>0.0</td>\n",
       "      <td>0.0</td>\n",
       "    </tr>\n",
       "    <tr>\n",
       "      <th>4</th>\n",
       "      <td>2020-03-01</td>\n",
       "      <td>1.0</td>\n",
       "      <td>0.0</td>\n",
       "      <td>0.0</td>\n",
       "      <td>0.0</td>\n",
       "      <td>0.0</td>\n",
       "      <td>0.0</td>\n",
       "    </tr>\n",
       "  </tbody>\n",
       "</table>\n",
       "</div>"
      ],
      "text/plain": [
       "  Reported Week  New_Cases  Hospitalization  Enter_ICU  Ventilator  \\\n",
       "0    2020-02-02        0.0              0.0        0.0         0.0   \n",
       "1    2020-02-09        0.0              0.0        0.0         0.0   \n",
       "2    2020-02-16        0.0              0.0        0.0         0.0   \n",
       "3    2020-02-23        0.0              0.0        0.0         0.0   \n",
       "4    2020-03-01        1.0              0.0        0.0         0.0   \n",
       "\n",
       "   New_Deaths  Positivity_Rate  \n",
       "0         0.0              0.0  \n",
       "1         0.0              0.0  \n",
       "2         0.0              0.0  \n",
       "3         0.0              0.0  \n",
       "4         0.0              0.0  "
      ]
     },
     "execution_count": 38,
     "metadata": {},
     "output_type": "execute_result"
    }
   ],
   "source": [
    "covid.head()"
   ]
  },
  {
   "cell_type": "code",
   "execution_count": 54,
   "metadata": {},
   "outputs": [
    {
     "name": "stdout",
     "output_type": "stream",
     "text": [
      "                                 OLS Regression Results                                \n",
      "=======================================================================================\n",
      "Dep. Variable:             New_Deaths   R-squared (uncentered):                   0.662\n",
      "Model:                            OLS   Adj. R-squared (uncentered):              0.631\n",
      "Method:                 Least Squares   F-statistic:                              21.50\n",
      "Date:                Sat, 26 Dec 2020   Prob (F-statistic):                    6.92e-10\n",
      "Time:                        18:55:24   Log-Likelihood:                         -185.15\n",
      "No. Observations:                  48   AIC:                                      378.3\n",
      "Df Residuals:                      44   BIC:                                      385.8\n",
      "Df Model:                           4                                                  \n",
      "Covariance Type:            nonrobust                                                  \n",
      "===================================================================================\n",
      "                      coef    std err          t      P>|t|      [0.025      0.975]\n",
      "-----------------------------------------------------------------------------------\n",
      "New_Cases           0.0060      0.003      1.834      0.073      -0.001       0.013\n",
      "Hospitalization     1.5434      0.397      3.891      0.000       0.744       2.343\n",
      "Enter_ICU          -5.0421      1.170     -4.309      0.000      -7.401      -2.684\n",
      "Ventilator          2.2151      1.274      1.739      0.089      -0.353       4.783\n",
      "==============================================================================\n",
      "Omnibus:                        9.407   Durbin-Watson:                   1.068\n",
      "Prob(Omnibus):                  0.009   Jarque-Bera (JB):                8.727\n",
      "Skew:                           0.893   Prob(JB):                       0.0127\n",
      "Kurtosis:                       4.084   Cond. No.                         683.\n",
      "==============================================================================\n",
      "\n",
      "Notes:\n",
      "[1] R² is computed without centering (uncentered) since the model does not contain a constant.\n",
      "[2] Standard Errors assume that the covariance matrix of the errors is correctly specified.\n"
     ]
    }
   ],
   "source": [
    "# predictor variable (x) and dependent variable (y)\n",
    "x1 = covid[['New_Cases', 'Hospitalization', 'Enter_ICU', 'Ventilator']]\n",
    "y1 = covid[['New_Deaths']]\n",
    "\n",
    "# with sklearn\n",
    "regr1 = linear_model.LinearRegression()\n",
    "regr1.fit(x1, y1)\n",
    "\n",
    "model1 = sm.OLS(y1, x1).fit()\n",
    "predictions1 = model1.predict(x1)\n",
    "\n",
    "print_model1 = model1.summary()\n",
    "print(print_model1)"
   ]
  },
  {
   "cell_type": "markdown",
   "metadata": {},
   "source": [
    "#### Adj. R-squared indicates that ~63% of new deaths can be explained by the predictor variables\n",
    "\n",
    "#### Interesting that a one unit increase in the patients in the ICU decreases new deaths by 5.0421 but a one unit increase in patients using ventilators by increases new deaths by 2.2151. However, 1 unit increase in new cases increases new deaths by 0.0060. This may indicate that an increase in new cases does not really impact new deaths. \n",
    "\n",
    "#### The standard error measures the accuracy of new deaths and its predictor variables coefficient by estimating the variation of the coefficient if the same test were run on a different sample of our population. Our standard errors are low for new cases and hospitalization but high for both patients entering the ICU and ventilator.\n",
    "\n",
    "#### The p value is below 5% for hospitalization and patients entering the ICU. This indicates that these predictor variables impact new deaths. However, new cases and patients in the ventilators have p-values above 5%. This may mean that new cases may not be as significant to new deaths reported."
   ]
  },
  {
   "cell_type": "code",
   "execution_count": null,
   "metadata": {},
   "outputs": [],
   "source": []
  }
 ],
 "metadata": {
  "kernelspec": {
   "display_name": "Python 3",
   "language": "python",
   "name": "python3"
  },
  "language_info": {
   "codemirror_mode": {
    "name": "ipython",
    "version": 3
   },
   "file_extension": ".py",
   "mimetype": "text/x-python",
   "name": "python",
   "nbconvert_exporter": "python",
   "pygments_lexer": "ipython3",
   "version": "3.7.3"
  }
 },
 "nbformat": 4,
 "nbformat_minor": 2
}
